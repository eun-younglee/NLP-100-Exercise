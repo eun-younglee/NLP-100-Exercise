{
 "cells": [
  {
   "cell_type": "markdown",
   "id": "e9ccaa0a-5bc7-420d-8fbf-567a64e37eaf",
   "metadata": {},
   "source": [
    "<img src=\"amhara.jpg\" width=500 height=500 />"
   ]
  },
  {
   "cell_type": "code",
   "execution_count": 15,
   "id": "dcf063c2-a030-444c-9e24-9ba581959575",
   "metadata": {},
   "outputs": [],
   "source": [
    "import re"
   ]
  },
  {
   "cell_type": "code",
   "execution_count": 38,
   "id": "0a4402d8-bb61-451e-b842-9941579ccfc6",
   "metadata": {},
   "outputs": [],
   "source": [
    "amharic = ['ካዛክስታን', 'ደቡብ አፍሪካ', 'ጋና', 'ኢራን', 'ፓኪስታን', 'ቪትናም', 'ኢራቅ', 'ካናዳ', 'ሊቢያ', 'ደቡብ ኮሪያ']\n",
    "korean = ['가나', '남 아프리카', '남 코리아', '리비아', '베트남', '이라크', '이란', '카자흐스탄', '카나다', '파키스탄']"
   ]
  },
  {
   "cell_type": "code",
   "execution_count": 39,
   "id": "f8e00dab-a5aa-4687-9810-2564a4a665fa",
   "metadata": {},
   "outputs": [
    {
     "name": "stdout",
     "output_type": "stream",
     "text": [
      "first:  {'ካ': ['ካዛክስታን', 'ካናዳ'], 'ኢ': ['ኢራን', 'ኢራቅ']} \n",
      "last:  {'ን': ['ኢራን', 'ፓኪስታን'], 'ታን': ['ካዛክስታን', 'ፓኪስታን'], 'ያ': ['ሊቢያ', 'ደቡብ ኮሪያ']} \n",
      "word:  {'ደቡብ': ['ደቡብ አፍሪካ', 'ደቡብ ኮሪያ']}\n"
     ]
    }
   ],
   "source": [
    "# if ( word is the same / first letter is the same / last letter is the same)\n",
    "a_first_same = {}\n",
    "a_last_same = {}\n",
    "a_word_same = {}\n",
    "\n",
    "def same_words(base, word): # find same word\n",
    "    base_one, base_two = base.split()\n",
    "    word_one, word_two = word.split()\n",
    "    if base_one == word_one:\n",
    "        a_word_same[base_one] = [base, word]\n",
    "    if base_two == word_two:\n",
    "        a_word_same[base_two] = [base, word]\n",
    "        \n",
    "def check(base, word):\n",
    "    if re.search(\"\\s\", base) and re.search(\"\\s\", word): # is the word has a space(consists of two words)\n",
    "        same_words(base, word)\n",
    "    elif base[0] == word[0]: # if first syllables are the same\n",
    "        a_first_same[base[0]] = [base, word]\n",
    "    elif base[-1] == word[-1]: # if last syllables are the same\n",
    "        if base[-2] == word[-2]: # if second last syllables are the same too\n",
    "            a_last_same[base[-2:]] = [base, word]\n",
    "        else:\n",
    "            a_last_same[base[-1]] = [base, word]\n",
    "\n",
    "for i in range(len(amharic)):\n",
    "    base = amharic[i]\n",
    "    for j in range(i + 1, len(amharic)):\n",
    "        word = amharic[j]\n",
    "        check(base, word)\n",
    "        \n",
    "print(\"first: \", a_first_same, \"\\nlast: \", a_last_same, \"\\nword: \", a_word_same)"
   ]
  },
  {
   "cell_type": "code",
   "execution_count": 40,
   "id": "7deddd42-03d4-4964-a608-730b46cccc3e",
   "metadata": {},
   "outputs": [
    {
     "name": "stdout",
     "output_type": "stream",
     "text": [
      "first:  {'이': ['이라크', '이란'], '카': ['카자흐스탄', '카나다']} \n",
      "last:  {'아': ['남 코리아', '리비아'], '스탄': ['카자흐스탄', '파키스탄']} \n",
      "word:  {'남': ['남 아프리카', '남 코리아']}\n"
     ]
    }
   ],
   "source": [
    "# if ( word is the same / first letter is the same / last letter is the same)\n",
    "k_first_same = {}\n",
    "k_last_same = {}\n",
    "k_word_same = {}\n",
    "\n",
    "def same_words(base, word):\n",
    "    base_one, base_two = base.split()\n",
    "    word_one, word_two = word.split()\n",
    "    if base_one == word_one:\n",
    "        k_word_same[base_one] = [base, word]\n",
    "    if base_two == word_two:\n",
    "        k_word_same[base_two] = [base, word]\n",
    "        \n",
    "def check(base, word):\n",
    "    if re.search(\"\\s\", base) and re.search(\"\\s\", word): \n",
    "        same_words(base, word)\n",
    "    elif base[0] == word[0]:\n",
    "        k_first_same[base[0]] = [base, word]\n",
    "    elif base[-1] == word[-1]:\n",
    "        if base[-2] == word[-2]:\n",
    "            k_last_same[base[-2:]] = [base, word]\n",
    "        else:\n",
    "            k_last_same[base[-1]] = [base, word]\n",
    "\n",
    "for i in range(len(amharic)):\n",
    "    base = korean[i]\n",
    "    for j in range(i + 1, len(amharic)):\n",
    "        word = korean[j]\n",
    "        check(base, word)\n",
    "        \n",
    "print(\"first: \", k_first_same, \"\\nlast: \", k_last_same, \"\\nword: \", k_word_same)"
   ]
  },
  {
   "cell_type": "code",
   "execution_count": 45,
   "id": "c4d97782-86f8-4f42-b6a0-706cae19a14e",
   "metadata": {},
   "outputs": [
    {
     "data": {
      "text/plain": [
       "{'ታን': '스탄', 'ካ': '카', 'ኢ': '이', 'ደቡብ': '남', 'ን': '니', 'ያ': '아'}"
      ]
     },
     "execution_count": 45,
     "metadata": {},
     "output_type": "execute_result"
    }
   ],
   "source": [
    "letter = {}\n",
    "letter['ታን'] = '스탄'\n",
    "letter['ካ'] = '카'\n",
    "letter['ኢ'] = '이'\n",
    "letter['ደቡብ'] = '남'\n",
    "letter['ን'] = '니'\n",
    "letter['ያ'] = '아'\n",
    "letter"
   ]
  },
  {
   "cell_type": "code",
   "execution_count": 47,
   "id": "24d66a62-0164-4ab1-bc47-caea4b1eb9f5",
   "metadata": {},
   "outputs": [],
   "source": [
    "dictionary = {}\n",
    "dictionary['ካዛክስታን'] = '카자흐스탄'\n",
    "dictionary['ደቡብ አፍሪካ'] = '남 아프리카'\n",
    "dictionary['ጋና'] = '가나'\n",
    "dictionary['ኢራን'] = '이란'\n",
    "dictionary['ፓኪስታን'] = '파키스탄'\n",
    "dictionary['ቪትናም'] = '베트남'\n",
    "dictionary['ኢራቅ'] = '이라크'\n",
    "dictionary['ካናዳ'] = '캐나다'\n",
    "dictionary['ሊቢያ'] = '리비아' \n",
    "dictionary['ደቡብ ኮሪያ'] = '남 코리아'"
   ]
  },
  {
   "cell_type": "code",
   "execution_count": 48,
   "id": "55098f00-2281-4efb-9989-4a1efb778dd1",
   "metadata": {},
   "outputs": [
    {
     "name": "stdout",
     "output_type": "stream",
     "text": [
      "라트베아\n"
     ]
    }
   ],
   "source": [
    "quiz = 'ላቲቪያ'\n",
    "letter['ላ'] = '라'\n",
    "letter['ቲ'] = '트'\n",
    "letter['ቪ'] = '베'\n",
    "\n",
    "answer = \"\"\n",
    "for q in quiz:\n",
    "    if q in letter.keys():\n",
    "        answer += letter[q]\n",
    "print(answer)"
   ]
  }
 ],
 "metadata": {
  "kernelspec": {
   "display_name": "Python 3 (ipykernel)",
   "language": "python",
   "name": "python3"
  },
  "language_info": {
   "codemirror_mode": {
    "name": "ipython",
    "version": 3
   },
   "file_extension": ".py",
   "mimetype": "text/x-python",
   "name": "python",
   "nbconvert_exporter": "python",
   "pygments_lexer": "ipython3",
   "version": "3.8.12"
  }
 },
 "nbformat": 4,
 "nbformat_minor": 5
}
