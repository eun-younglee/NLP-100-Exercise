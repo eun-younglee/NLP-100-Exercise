{
  "nbformat": 4,
  "nbformat_minor": 0,
  "metadata": {
    "colab": {
      "name": "Regular Expressions.ipynb",
      "provenance": [],
      "collapsed_sections": [],
      "toc_visible": true,
      "authorship_tag": "ABX9TyOfQz63S9feSah4bll+EGH1",
      "include_colab_link": true
    },
    "kernelspec": {
      "name": "python3",
      "display_name": "Python 3"
    },
    "language_info": {
      "name": "python"
    }
  },
  "cells": [
    {
      "cell_type": "markdown",
      "metadata": {
        "id": "view-in-github",
        "colab_type": "text"
      },
      "source": [
        "<a href=\"https://colab.research.google.com/github/eun-younglee/NLP-100-Exercise/blob/main/Regular_Expressions.ipynb\" target=\"_parent\"><img src=\"https://colab.research.google.com/assets/colab-badge.svg\" alt=\"Open In Colab\"/></a>"
      ]
    },
    {
      "cell_type": "markdown",
      "source": [
        "#Regular Expressions\n",
        "Useful sites\n",
        "\n",
        "https://realpython.com/regex-python/\n",
        "\n",
        "https://regex101.com/"
      ],
      "metadata": {
        "id": "mCnzkvoVWDvG"
      }
    },
    {
      "cell_type": "markdown",
      "source": [
        "re.search(regex, string) # searches a string for a regex match"
      ],
      "metadata": {
        "id": "2mFpAgySre4T"
      }
    },
    {
      "cell_type": "code",
      "execution_count": 1,
      "metadata": {
        "colab": {
          "base_uri": "https://localhost:8080/"
        },
        "id": "j_3J5IoqUZmL",
        "outputId": "5ecbc61e-33ee-43e7-b6ef-9ddad66c5cc6"
      },
      "outputs": [
        {
          "output_type": "execute_result",
          "data": {
            "text/plain": [
              "<re.Match object; span=(3, 6), match='123'>"
            ]
          },
          "metadata": {},
          "execution_count": 1
        }
      ],
      "source": [
        "import re\n",
        "string = \"foo123bar\"\n",
        "re.search('123', string)"
      ]
    },
    {
      "cell_type": "code",
      "source": [
        "if re.search('123', string):\n",
        "    print(\"Found a match\")\n",
        "else:\n",
        "    print(\"No match\")"
      ],
      "metadata": {
        "colab": {
          "base_uri": "https://localhost:8080/"
        },
        "id": "aoCvPLibWezK",
        "outputId": "605ddf66-6d7a-49ac-b969-c1d07098398e"
      },
      "execution_count": 2,
      "outputs": [
        {
          "output_type": "stream",
          "name": "stdout",
          "text": [
            "Found a match\n"
          ]
        }
      ]
    },
    {
      "cell_type": "markdown",
      "source": [
        "##Metacharacters matching single character\n",
        "[]: character class"
      ],
      "metadata": {
        "id": "g1d3fbyeb0cI"
      }
    },
    {
      "cell_type": "code",
      "source": [
        "string = \"foo123bar\"\n",
        "re.search('[0-9][0-9][0-9]', string)"
      ],
      "metadata": {
        "colab": {
          "base_uri": "https://localhost:8080/"
        },
        "id": "xwVqyJpeWwry",
        "outputId": "3cfe7fdb-8334-4af5-e311-579656dbd4da"
      },
      "execution_count": 3,
      "outputs": [
        {
          "output_type": "execute_result",
          "data": {
            "text/plain": [
              "<re.Match object; span=(3, 6), match='123'>"
            ]
          },
          "metadata": {},
          "execution_count": 3
        }
      ]
    },
    {
      "cell_type": "markdown",
      "source": [
        ".: metacharacter matches any character except a newline"
      ],
      "metadata": {
        "id": "YqY5wF7vcw2k"
      }
    },
    {
      "cell_type": "code",
      "source": [
        "string = \"foo123bar\"\n",
        "re.search('1.3', string)"
      ],
      "metadata": {
        "colab": {
          "base_uri": "https://localhost:8080/"
        },
        "id": "acC32ez0cn_w",
        "outputId": "dc374791-705c-455d-87d6-dc63fec358ef"
      },
      "execution_count": 4,
      "outputs": [
        {
          "output_type": "execute_result",
          "data": {
            "text/plain": [
              "<re.Match object; span=(3, 6), match='123'>"
            ]
          },
          "metadata": {},
          "execution_count": 4
        }
      ]
    },
    {
      "cell_type": "code",
      "source": [
        "string = \"foo123bar\"\n",
        "re.search('.b', string)"
      ],
      "metadata": {
        "colab": {
          "base_uri": "https://localhost:8080/"
        },
        "id": "0IpZRA7rc7Fv",
        "outputId": "1f528861-ee7a-4304-ec71-e39ac566ee75"
      },
      "execution_count": 5,
      "outputs": [
        {
          "output_type": "execute_result",
          "data": {
            "text/plain": [
              "<re.Match object; span=(5, 7), match='3b'>"
            ]
          },
          "metadata": {},
          "execution_count": 5
        }
      ]
    },
    {
      "cell_type": "markdown",
      "source": [
        "^: Anchors a match at the start of a string\n",
        "\n",
        "$: Anchors a match at the end of a string"
      ],
      "metadata": {
        "id": "zmLiVbvwdklx"
      }
    },
    {
      "cell_type": "code",
      "source": [
        "string = \"foo123bar\"\n",
        "re.search(\"^f\", string)"
      ],
      "metadata": {
        "colab": {
          "base_uri": "https://localhost:8080/"
        },
        "id": "kYfBe-m_dDNs",
        "outputId": "7c768d77-577b-41f1-d445-2d00bd150d32"
      },
      "execution_count": 6,
      "outputs": [
        {
          "output_type": "execute_result",
          "data": {
            "text/plain": [
              "<re.Match object; span=(0, 1), match='f'>"
            ]
          },
          "metadata": {},
          "execution_count": 6
        }
      ]
    },
    {
      "cell_type": "code",
      "source": [
        "string = \"foo123bar\"\n",
        "re.search(\"^b\", string)"
      ],
      "metadata": {
        "id": "RhqCqiXjdr7p"
      },
      "execution_count": 7,
      "outputs": []
    },
    {
      "cell_type": "code",
      "source": [
        "string = \"foo123bar\"\n",
        "re.search(\"r$\", string)"
      ],
      "metadata": {
        "colab": {
          "base_uri": "https://localhost:8080/"
        },
        "id": "SKkvl8jhYhTs",
        "outputId": "3e75bef1-0727-4ce4-f12d-09667b44f339"
      },
      "execution_count": 8,
      "outputs": [
        {
          "output_type": "execute_result",
          "data": {
            "text/plain": [
              "<re.Match object; span=(8, 9), match='r'>"
            ]
          },
          "metadata": {},
          "execution_count": 8
        }
      ]
    },
    {
      "cell_type": "markdown",
      "source": [
        "*: Matches zero or more repetitions"
      ],
      "metadata": {
        "id": "qwBdtbsdd1zC"
      }
    },
    {
      "cell_type": "code",
      "source": [
        "string = \"foo123bar\"\n",
        "re.search(\"12*\", string)"
      ],
      "metadata": {
        "colab": {
          "base_uri": "https://localhost:8080/"
        },
        "id": "IZwsMsXbduRq",
        "outputId": "93bde352-08e0-4e2e-a2ed-86f21cbdf00d"
      },
      "execution_count": 9,
      "outputs": [
        {
          "output_type": "execute_result",
          "data": {
            "text/plain": [
              "<re.Match object; span=(3, 5), match='12'>"
            ]
          },
          "metadata": {},
          "execution_count": 9
        }
      ]
    },
    {
      "cell_type": "markdown",
      "source": [
        "[]: match any single character contained in the square brackets"
      ],
      "metadata": {
        "id": "ynpW_WrajF4R"
      }
    },
    {
      "cell_type": "code",
      "source": [
        "string = \"fooo123bar\"\n",
        "re.search(\"[ard]\", string)"
      ],
      "metadata": {
        "colab": {
          "base_uri": "https://localhost:8080/"
        },
        "id": "AmctPQCme8Wg",
        "outputId": "576994ea-4e7a-41cd-9e54-513a1823b7e5"
      },
      "execution_count": 10,
      "outputs": [
        {
          "output_type": "execute_result",
          "data": {
            "text/plain": [
              "<re.Match object; span=(8, 9), match='a'>"
            ]
          },
          "metadata": {},
          "execution_count": 10
        }
      ]
    },
    {
      "cell_type": "code",
      "source": [
        "string = \"foo123bar\"\n",
        "re.search(\"[a-z]\", string) # any single character within the range"
      ],
      "metadata": {
        "colab": {
          "base_uri": "https://localhost:8080/"
        },
        "id": "nSHr7MFPjXtM",
        "outputId": "c7a77ed3-e59f-48e8-c949-fb87362d5ede"
      },
      "execution_count": 11,
      "outputs": [
        {
          "output_type": "execute_result",
          "data": {
            "text/plain": [
              "<re.Match object; span=(0, 1), match='f'>"
            ]
          },
          "metadata": {},
          "execution_count": 11
        }
      ]
    },
    {
      "cell_type": "code",
      "source": [
        "string = \"foo123bar\"\n",
        "re.search('[0-9a-zA-Z]', string)"
      ],
      "metadata": {
        "colab": {
          "base_uri": "https://localhost:8080/"
        },
        "id": "F99-J-_Tj25d",
        "outputId": "f231d377-eb27-48ff-f26c-567bc1d0e971"
      },
      "execution_count": 12,
      "outputs": [
        {
          "output_type": "execute_result",
          "data": {
            "text/plain": [
              "<re.Match object; span=(0, 1), match='f'>"
            ]
          },
          "metadata": {},
          "execution_count": 12
        }
      ]
    },
    {
      "cell_type": "code",
      "source": [
        "re.search('[^0-9]', '12345foo') # matches any character that does not start with characters from the set"
      ],
      "metadata": {
        "colab": {
          "base_uri": "https://localhost:8080/"
        },
        "id": "Dn0GBu7cj_A5",
        "outputId": "b2e06634-0a9f-425f-f6a1-71141ac32df5"
      },
      "execution_count": 13,
      "outputs": [
        {
          "output_type": "execute_result",
          "data": {
            "text/plain": [
              "<re.Match object; span=(5, 6), match='f'>"
            ]
          },
          "metadata": {},
          "execution_count": 13
        }
      ]
    },
    {
      "cell_type": "markdown",
      "source": [
        "\\w: same as [a-zA-Z0-9]"
      ],
      "metadata": {
        "id": "MmCFjKPLp4a4"
      }
    },
    {
      "cell_type": "code",
      "source": [
        "re.search('\\w', \"!?@hellothere\")"
      ],
      "metadata": {
        "colab": {
          "base_uri": "https://localhost:8080/"
        },
        "id": "_KO4fxadkeHO",
        "outputId": "1e51882e-f5b3-4eae-a0ed-2597f3cf89b9"
      },
      "execution_count": 14,
      "outputs": [
        {
          "output_type": "execute_result",
          "data": {
            "text/plain": [
              "<re.Match object; span=(3, 4), match='h'>"
            ]
          },
          "metadata": {},
          "execution_count": 14
        }
      ]
    },
    {
      "cell_type": "markdown",
      "source": [
        "\\W: matches any non-word character"
      ],
      "metadata": {
        "id": "Z8cQSAeCqMHa"
      }
    },
    {
      "cell_type": "code",
      "source": [
        "re.search('\\W', \"hello#$?\")"
      ],
      "metadata": {
        "colab": {
          "base_uri": "https://localhost:8080/"
        },
        "id": "itxmFXWiqBkA",
        "outputId": "f1f4f403-34e8-413f-e995-8cc5c80ab6b2"
      },
      "execution_count": 15,
      "outputs": [
        {
          "output_type": "execute_result",
          "data": {
            "text/plain": [
              "<re.Match object; span=(5, 6), match='#'>"
            ]
          },
          "metadata": {},
          "execution_count": 15
        }
      ]
    },
    {
      "cell_type": "markdown",
      "source": [
        "\\d: matches any decimal digit character, same as [0-9]\n",
        "\n",
        "\\D: matches any non decimal digit character, same as [^0-9]"
      ],
      "metadata": {
        "id": "8LBivkNyqYya"
      }
    },
    {
      "cell_type": "code",
      "source": [
        "re.search(\"\\d\", \"hello123\")"
      ],
      "metadata": {
        "colab": {
          "base_uri": "https://localhost:8080/"
        },
        "id": "VUD9Ev2xqVua",
        "outputId": "afd2a5bd-1986-4ef8-cd98-e7c0eb7af6e6"
      },
      "execution_count": 16,
      "outputs": [
        {
          "output_type": "execute_result",
          "data": {
            "text/plain": [
              "<re.Match object; span=(5, 6), match='1'>"
            ]
          },
          "metadata": {},
          "execution_count": 16
        }
      ]
    },
    {
      "cell_type": "code",
      "source": [
        "re.search(\"\\d\", \"hello123\")"
      ],
      "metadata": {
        "colab": {
          "base_uri": "https://localhost:8080/"
        },
        "id": "Smx1Vke2qiFk",
        "outputId": "a6751609-2ef8-4a4b-cbc1-59109d997b85"
      },
      "execution_count": 17,
      "outputs": [
        {
          "output_type": "execute_result",
          "data": {
            "text/plain": [
              "<re.Match object; span=(5, 6), match='1'>"
            ]
          },
          "metadata": {},
          "execution_count": 17
        }
      ]
    },
    {
      "cell_type": "markdown",
      "source": [
        "\\s: matches any whitespace character, including newline\n",
        "\n",
        "\\S: matches any non whitespace character"
      ],
      "metadata": {
        "id": "_ss6-lBvrEv9"
      }
    },
    {
      "cell_type": "code",
      "source": [
        "re.search(\"\\s\", \"hello\\nthere\")"
      ],
      "metadata": {
        "colab": {
          "base_uri": "https://localhost:8080/"
        },
        "id": "oVNGKZHUqpwm",
        "outputId": "8b7d34f1-138e-4dcc-c97d-198f7ba76190"
      },
      "execution_count": 18,
      "outputs": [
        {
          "output_type": "execute_result",
          "data": {
            "text/plain": [
              "<re.Match object; span=(5, 6), match='\\n'>"
            ]
          },
          "metadata": {},
          "execution_count": 18
        }
      ]
    },
    {
      "cell_type": "markdown",
      "source": [
        "\\\\: escaping characters "
      ],
      "metadata": {
        "id": "1Kaox13VDNqI"
      }
    },
    {
      "cell_type": "code",
      "source": [
        "re.search(\".\", \"hello.me\") # matches any character"
      ],
      "metadata": {
        "id": "EBuTa6qXrQT7",
        "colab": {
          "base_uri": "https://localhost:8080/"
        },
        "outputId": "8a1a691f-f649-4021-d93f-8af35c72e928"
      },
      "execution_count": 19,
      "outputs": [
        {
          "output_type": "execute_result",
          "data": {
            "text/plain": [
              "<re.Match object; span=(0, 1), match='h'>"
            ]
          },
          "metadata": {},
          "execution_count": 19
        }
      ]
    },
    {
      "cell_type": "code",
      "source": [
        "re.search(\"\\.\", \"hello.me\") # matches \".\""
      ],
      "metadata": {
        "colab": {
          "base_uri": "https://localhost:8080/"
        },
        "id": "QZsfsvEDD1V2",
        "outputId": "7ca52448-5178-46b3-cae4-0566f7f48bdb"
      },
      "execution_count": 20,
      "outputs": [
        {
          "output_type": "execute_result",
          "data": {
            "text/plain": [
              "<re.Match object; span=(5, 6), match='.'>"
            ]
          },
          "metadata": {},
          "execution_count": 20
        }
      ]
    },
    {
      "cell_type": "markdown",
      "source": [
        "r\"string\": specify the regex using a raw string, suppresses the escaping at the interpreter level"
      ],
      "metadata": {
        "id": "yZzWBL8uEWpx"
      }
    },
    {
      "cell_type": "code",
      "source": [
        "re.search(r\"\\\\\", r\"foo\\bar\")"
      ],
      "metadata": {
        "colab": {
          "base_uri": "https://localhost:8080/"
        },
        "id": "glVnj1_nD6IX",
        "outputId": "5c839b6a-e27f-48a6-d93f-8e9b98953af5"
      },
      "execution_count": 21,
      "outputs": [
        {
          "output_type": "execute_result",
          "data": {
            "text/plain": [
              "<re.Match object; span=(3, 4), match='\\\\'>"
            ]
          },
          "metadata": {},
          "execution_count": 21
        }
      ]
    },
    {
      "cell_type": "markdown",
      "source": [
        "## Anchors\n",
        "Anchors are zero-width matches. They don’t match any actual characters in the search string, and they don’t consume any of the search string during parsing. Instead, an anchor dictates a particular location in the search string where a match must occur."
      ],
      "metadata": {
        "id": "uyYzCyW5GnX2"
      }
    },
    {
      "cell_type": "markdown",
      "source": [
        "^: the parser’s current position must be at the beginning of the search string for it to find a match"
      ],
      "metadata": {
        "id": "q8sdp6TxFxQ6"
      }
    },
    {
      "cell_type": "code",
      "source": [
        "re.search(\"^foo\", \"foo123bar\")"
      ],
      "metadata": {
        "colab": {
          "base_uri": "https://localhost:8080/"
        },
        "id": "o7WaiOj1Fyw1",
        "outputId": "e4ba26e7-23d5-4368-b2cb-4911687b89a3"
      },
      "execution_count": 22,
      "outputs": [
        {
          "output_type": "execute_result",
          "data": {
            "text/plain": [
              "<re.Match object; span=(0, 3), match='foo'>"
            ]
          },
          "metadata": {},
          "execution_count": 22
        }
      ]
    },
    {
      "cell_type": "code",
      "source": [
        "re.search(\"^foo\", \"123foobar\")"
      ],
      "metadata": {
        "id": "Ov_-FXsvGOce"
      },
      "execution_count": 23,
      "outputs": []
    },
    {
      "cell_type": "markdown",
      "source": [
        "$: the parser’s current position must be at the end of the search string for it to find a match"
      ],
      "metadata": {
        "id": "q4S-MZ4MHBHr"
      }
    },
    {
      "cell_type": "code",
      "source": [
        "re.search(\"foo$\", \"foo123bar\")"
      ],
      "metadata": {
        "id": "KpW_7OoxGRK4"
      },
      "execution_count": 24,
      "outputs": []
    },
    {
      "cell_type": "code",
      "source": [
        "re.search(\"foo$\", \"123barfoo\")"
      ],
      "metadata": {
        "colab": {
          "base_uri": "https://localhost:8080/"
        },
        "id": "MCLEnO9wHQOE",
        "outputId": "bafe0f19-99ae-4b6e-ef0b-93fba9b01bf9"
      },
      "execution_count": 25,
      "outputs": [
        {
          "output_type": "execute_result",
          "data": {
            "text/plain": [
              "<re.Match object; span=(6, 9), match='foo'>"
            ]
          },
          "metadata": {},
          "execution_count": 25
        }
      ]
    },
    {
      "cell_type": "markdown",
      "source": [
        "## Quantifiers\n",
        "A quantifier metacharacter immediately follows a portion of a regex and indicates how many times that portion must occur for the match to succeed."
      ],
      "metadata": {
        "id": "c270qsyrH9rH"
      }
    },
    {
      "cell_type": "markdown",
      "source": [
        "+: matches one or more repetitions of the preceding regex"
      ],
      "metadata": {
        "id": "bjqvD8cHIr_Y"
      }
    },
    {
      "cell_type": "code",
      "source": [
        "print(re.search(\"-+\", \"foobar\"))"
      ],
      "metadata": {
        "colab": {
          "base_uri": "https://localhost:8080/"
        },
        "id": "7fyOhO8gI00O",
        "outputId": "5080ca37-d1d0-4fc4-82c3-1eb97c6840f1"
      },
      "execution_count": 26,
      "outputs": [
        {
          "output_type": "stream",
          "name": "stdout",
          "text": [
            "None\n"
          ]
        }
      ]
    },
    {
      "cell_type": "code",
      "source": [
        "re.search(\"-+\", \"foo--bar\")"
      ],
      "metadata": {
        "colab": {
          "base_uri": "https://localhost:8080/"
        },
        "id": "7R11ljuBI4xh",
        "outputId": "cc369e93-9896-402e-aa24-2f242a45331e"
      },
      "execution_count": 27,
      "outputs": [
        {
          "output_type": "execute_result",
          "data": {
            "text/plain": [
              "<re.Match object; span=(3, 5), match='--'>"
            ]
          },
          "metadata": {},
          "execution_count": 27
        }
      ]
    },
    {
      "cell_type": "markdown",
      "source": [
        "?: matches zero or one repetitions of the preceding regex"
      ],
      "metadata": {
        "id": "BQPrTUEJJKCj"
      }
    },
    {
      "cell_type": "code",
      "source": [
        "re.search(\"foo-?bar\", \"foobar\")"
      ],
      "metadata": {
        "colab": {
          "base_uri": "https://localhost:8080/"
        },
        "id": "g4zwK2i8JF98",
        "outputId": "355e2824-bbf9-4e6d-e82e-faf267145555"
      },
      "execution_count": 28,
      "outputs": [
        {
          "output_type": "execute_result",
          "data": {
            "text/plain": [
              "<re.Match object; span=(0, 6), match='foobar'>"
            ]
          },
          "metadata": {},
          "execution_count": 28
        }
      ]
    },
    {
      "cell_type": "code",
      "source": [
        "re.search(\"foo-?bar\", \"foo--bar\")"
      ],
      "metadata": {
        "id": "gereZPqGJPi_"
      },
      "execution_count": 29,
      "outputs": []
    },
    {
      "cell_type": "markdown",
      "source": [
        "{m}: matches exactly m repetitions of the preceding regex"
      ],
      "metadata": {
        "id": "60pG5WrMs2N_"
      }
    },
    {
      "cell_type": "code",
      "source": [
        "re.search(\"ab{3}\", \"aaabbbc\")"
      ],
      "metadata": {
        "colab": {
          "base_uri": "https://localhost:8080/"
        },
        "id": "h7OV6fJvs1NR",
        "outputId": "209570f4-1c55-4db3-913b-dae86c676682"
      },
      "execution_count": 30,
      "outputs": [
        {
          "output_type": "execute_result",
          "data": {
            "text/plain": [
              "<re.Match object; span=(2, 6), match='abbb'>"
            ]
          },
          "metadata": {},
          "execution_count": 30
        }
      ]
    },
    {
      "cell_type": "markdown",
      "source": [
        "{m,n}: matches any number of repetitions of the preceding regex from m to n, inclusive, no space after the comma"
      ],
      "metadata": {
        "id": "Ay0RmL95tGtt"
      }
    },
    {
      "cell_type": "code",
      "source": [
        "re.search(\"b{3,5}\", \"aabbbbcc\")"
      ],
      "metadata": {
        "colab": {
          "base_uri": "https://localhost:8080/"
        },
        "id": "gWqgL1RytLHi",
        "outputId": "7112bab0-479b-45fd-80f5-dc1a2af3d219"
      },
      "execution_count": 31,
      "outputs": [
        {
          "output_type": "execute_result",
          "data": {
            "text/plain": [
              "<re.Match object; span=(2, 6), match='bbbb'>"
            ]
          },
          "metadata": {},
          "execution_count": 31
        }
      ]
    },
    {
      "cell_type": "code",
      "source": [
        "re.search(\"aab{3,5}\", \"aaabbcccc\")"
      ],
      "metadata": {
        "id": "6uuD_swVtRp3"
      },
      "execution_count": 32,
      "outputs": []
    },
    {
      "cell_type": "markdown",
      "source": [
        "{,}: any number of repetitions"
      ],
      "metadata": {
        "id": "tBmB7Y6KtsVV"
      }
    },
    {
      "cell_type": "code",
      "source": [
        "re.search(\"aab{,}c\", \"aabbbbbbbbcv\")"
      ],
      "metadata": {
        "colab": {
          "base_uri": "https://localhost:8080/"
        },
        "id": "OWYm5Q0Xtur5",
        "outputId": "50654c9c-884b-4bf1-d7e1-9e8dc0ad5203"
      },
      "execution_count": 33,
      "outputs": [
        {
          "output_type": "execute_result",
          "data": {
            "text/plain": [
              "<re.Match object; span=(0, 11), match='aabbbbbbbbc'>"
            ]
          },
          "metadata": {},
          "execution_count": 33
        }
      ]
    },
    {
      "cell_type": "markdown",
      "source": [
        "## Capturing Groups\n",
        "m.groups(): returns a tuple containing all the captured groups from a regex match."
      ],
      "metadata": {
        "id": "VPf09sdnZo_i"
      }
    },
    {
      "cell_type": "code",
      "source": [
        "m = re.search(\"(\\w+), (\\w+), (\\w+)\", 'foo, you, bar')\n",
        "m"
      ],
      "metadata": {
        "colab": {
          "base_uri": "https://localhost:8080/"
        },
        "id": "ndXD8UupZ0Td",
        "outputId": "52e99f1e-8131-414e-f853-1c8f59c00285"
      },
      "execution_count": 34,
      "outputs": [
        {
          "output_type": "execute_result",
          "data": {
            "text/plain": [
              "<re.Match object; span=(0, 13), match='foo, you, bar'>"
            ]
          },
          "metadata": {},
          "execution_count": 34
        }
      ]
    },
    {
      "cell_type": "code",
      "source": [
        "m.groups()"
      ],
      "metadata": {
        "colab": {
          "base_uri": "https://localhost:8080/"
        },
        "id": "lRcIxOcsaBwl",
        "outputId": "6724ecf7-c340-47db-c82b-930208596bde"
      },
      "execution_count": 35,
      "outputs": [
        {
          "output_type": "execute_result",
          "data": {
            "text/plain": [
              "('foo', 'you', 'bar')"
            ]
          },
          "metadata": {},
          "execution_count": 35
        }
      ]
    },
    {
      "cell_type": "code",
      "source": [
        "m.group(2)"
      ],
      "metadata": {
        "colab": {
          "base_uri": "https://localhost:8080/",
          "height": 35
        },
        "id": "kjtd02klaDI6",
        "outputId": "80e4c981-a1d1-4b80-f72e-f08c7a7091be"
      },
      "execution_count": 36,
      "outputs": [
        {
          "output_type": "execute_result",
          "data": {
            "text/plain": [
              "'you'"
            ],
            "application/vnd.google.colaboratory.intrinsic+json": {
              "type": "string"
            }
          },
          "metadata": {},
          "execution_count": 36
        }
      ]
    },
    {
      "cell_type": "code",
      "source": [
        "m.group(0) # returns all elements"
      ],
      "metadata": {
        "colab": {
          "base_uri": "https://localhost:8080/",
          "height": 35
        },
        "id": "iQCfSkF6alsR",
        "outputId": "0de60e02-0a8c-49d8-8b0a-d8d84a5932cc"
      },
      "execution_count": 37,
      "outputs": [
        {
          "output_type": "execute_result",
          "data": {
            "text/plain": [
              "'foo, you, bar'"
            ],
            "application/vnd.google.colaboratory.intrinsic+json": {
              "type": "string"
            }
          },
          "metadata": {},
          "execution_count": 37
        }
      ]
    },
    {
      "cell_type": "markdown",
      "source": [
        "(?:regex): creates a non-capturing group"
      ],
      "metadata": {
        "id": "inPY-2LaguX1"
      }
    },
    {
      "cell_type": "code",
      "source": [
        "m = re.search(\"(\\w+), (?:\\w+), (\\w+)\", \"foo, quux, baz\") # does not capture second word\n",
        "m.groups()"
      ],
      "metadata": {
        "colab": {
          "base_uri": "https://localhost:8080/"
        },
        "id": "9dIwWlRyg1lU",
        "outputId": "c4b8a7ed-2b37-47e3-99dc-b7c57430498d"
      },
      "execution_count": 38,
      "outputs": [
        {
          "output_type": "execute_result",
          "data": {
            "text/plain": [
              "('foo', 'baz')"
            ]
          },
          "metadata": {},
          "execution_count": 38
        }
      ]
    },
    {
      "cell_type": "markdown",
      "source": [
        "## Backreference\n",
        "\\n: matches the contents of a previously captured group"
      ],
      "metadata": {
        "id": "8UIxxKsmbUYK"
      }
    },
    {
      "cell_type": "code",
      "source": [
        "regex = r\"(\\w+), \\1\"\n",
        "m = re.search(regex, \"foo, foo\")\n",
        "m"
      ],
      "metadata": {
        "colab": {
          "base_uri": "https://localhost:8080/"
        },
        "id": "03gcu3aqap6u",
        "outputId": "0588f4a1-6ccf-4bcc-e108-b8a7806aa042"
      },
      "execution_count": 39,
      "outputs": [
        {
          "output_type": "execute_result",
          "data": {
            "text/plain": [
              "<re.Match object; span=(0, 8), match='foo, foo'>"
            ]
          },
          "metadata": {},
          "execution_count": 39
        }
      ]
    },
    {
      "cell_type": "code",
      "source": [
        "m = re.search(regex, \"foo, you\")\n",
        "print(m)"
      ],
      "metadata": {
        "colab": {
          "base_uri": "https://localhost:8080/"
        },
        "id": "6eY68kymbkZO",
        "outputId": "71dc68d9-2041-40b4-adf0-d88084913163"
      },
      "execution_count": 40,
      "outputs": [
        {
          "output_type": "stream",
          "name": "stdout",
          "text": [
            "None\n"
          ]
        }
      ]
    },
    {
      "cell_type": "markdown",
      "source": [
        "## Miscellaneous Metacharacters\n",
        "Miscellaneous: of various types or from different sources."
      ],
      "metadata": {
        "id": "wAq8dKxQi4Rw"
      }
    },
    {
      "cell_type": "markdown",
      "source": [
        "(?#...): specifies a comment"
      ],
      "metadata": {
        "id": "xVEpbq4zjwcT"
      }
    },
    {
      "cell_type": "code",
      "source": [
        " re.search(\"bar(?#this is a comment)\", \"foobar\")"
      ],
      "metadata": {
        "colab": {
          "base_uri": "https://localhost:8080/"
        },
        "id": "bTsA2klJcZC3",
        "outputId": "2eed6a63-db2c-4915-d8bb-b0ac82245efe"
      },
      "execution_count": 41,
      "outputs": [
        {
          "output_type": "execute_result",
          "data": {
            "text/plain": [
              "<re.Match object; span=(3, 6), match='bar'>"
            ]
          },
          "metadata": {},
          "execution_count": 41
        }
      ]
    },
    {
      "cell_type": "markdown",
      "source": [
        "|: specifies a set of alternatives on which to match, non greedy(only first match)"
      ],
      "metadata": {
        "id": "zP356-3XkArY"
      }
    },
    {
      "cell_type": "code",
      "source": [
        "re.search(\"bar|baz|baq\", \"foobaz\")"
      ],
      "metadata": {
        "colab": {
          "base_uri": "https://localhost:8080/"
        },
        "id": "fAbY302Dj72S",
        "outputId": "edfbae1f-4264-44ab-913a-7ff328f705a2"
      },
      "execution_count": 42,
      "outputs": [
        {
          "output_type": "execute_result",
          "data": {
            "text/plain": [
              "<re.Match object; span=(3, 6), match='baz'>"
            ]
          },
          "metadata": {},
          "execution_count": 42
        }
      ]
    },
    {
      "cell_type": "code",
      "source": [
        "re.search('(foo|bar|baz)+', 'foofoofoo')"
      ],
      "metadata": {
        "colab": {
          "base_uri": "https://localhost:8080/"
        },
        "id": "AeGmPMP7kHpr",
        "outputId": "299df229-2f96-47f7-8b8d-86ffed397841"
      },
      "execution_count": 43,
      "outputs": [
        {
          "output_type": "execute_result",
          "data": {
            "text/plain": [
              "<re.Match object; span=(0, 9), match='foofoofoo'>"
            ]
          },
          "metadata": {},
          "execution_count": 43
        }
      ]
    },
    {
      "cell_type": "markdown",
      "source": [
        "##Modified Regular Expression Matching With Flags\n",
        "re.search(regex, string, flags): scans a string for a regex match, applying the specified modifier flags"
      ],
      "metadata": {
        "id": "fnHR9SD4lwEa"
      }
    },
    {
      "cell_type": "markdown",
      "source": [
        "re.I: IGNORECASE, case insensitive  \n",
        "\n"
      ],
      "metadata": {
        "id": "kqQN-c5zmT0R"
      }
    },
    {
      "cell_type": "code",
      "source": [
        "re.search('a+', 'aaaAAA', re.I) "
      ],
      "metadata": {
        "colab": {
          "base_uri": "https://localhost:8080/"
        },
        "id": "iHDQfqbHkd-K",
        "outputId": "ac7beeae-90c1-4571-b889-b5d427373326"
      },
      "execution_count": 44,
      "outputs": [
        {
          "output_type": "execute_result",
          "data": {
            "text/plain": [
              "<re.Match object; span=(0, 6), match='aaaAAA'>"
            ]
          },
          "metadata": {},
          "execution_count": 44
        }
      ]
    },
    {
      "cell_type": "markdown",
      "source": [
        "re.M: MULTILINE, causes start-of-string and end-of-string anchors to match at embedded newlines"
      ],
      "metadata": {
        "id": "jVS8rOVVmaak"
      }
    },
    {
      "cell_type": "code",
      "source": [
        "string = \"foo\\nbar\\nbaz\"\n",
        "re.search(\"^bar\", string)"
      ],
      "metadata": {
        "id": "hVkvLhcMlQfS"
      },
      "execution_count": 45,
      "outputs": []
    },
    {
      "cell_type": "code",
      "source": [
        "re.search(\"^bar\", string, re.M) "
      ],
      "metadata": {
        "colab": {
          "base_uri": "https://localhost:8080/"
        },
        "id": "-_MTu4zHl0IO",
        "outputId": "f7974f96-2a9c-4ebf-d461-375133db3b10"
      },
      "execution_count": 46,
      "outputs": [
        {
          "output_type": "execute_result",
          "data": {
            "text/plain": [
              "<re.Match object; span=(4, 7), match='bar'>"
            ]
          },
          "metadata": {},
          "execution_count": 46
        }
      ]
    },
    {
      "cell_type": "code",
      "source": [
        "re.search(\"baz$\", string, re.M)"
      ],
      "metadata": {
        "colab": {
          "base_uri": "https://localhost:8080/"
        },
        "id": "LjMV3M-kmEFe",
        "outputId": "2bec5dc4-0b62-4b85-fbc4-e8f14cc97884"
      },
      "execution_count": 47,
      "outputs": [
        {
          "output_type": "execute_result",
          "data": {
            "text/plain": [
              "<re.Match object; span=(8, 11), match='baz'>"
            ]
          },
          "metadata": {},
          "execution_count": 47
        }
      ]
    },
    {
      "cell_type": "markdown",
      "source": [
        "re.X: VERBOSE, allows inclusion of whitespace and comments within a regex"
      ],
      "metadata": {
        "id": "3S8VrDaUod_o"
      }
    },
    {
      "cell_type": "code",
      "source": [
        "regex = r'''^               # Start of string\n",
        "             (\\(\\d{3}\\))?    # Optional area code\n",
        "             \\s*             # Optional whitespace\n",
        "             \\d{3}           # Three-digit prefix\n",
        "             [-.]            # Separator character\n",
        "             \\d{4}           # Four-digit line number\n",
        "            $               # Anchor at end of string\n",
        "            '''\n",
        "re.search(regex, \"(143) 243-5326\", re.X)"
      ],
      "metadata": {
        "colab": {
          "base_uri": "https://localhost:8080/"
        },
        "id": "0gKG3x7YmkBH",
        "outputId": "45fd24dd-0d05-45bd-c0e3-ff4971c7d80c"
      },
      "execution_count": 48,
      "outputs": [
        {
          "output_type": "execute_result",
          "data": {
            "text/plain": [
              "<re.Match object; span=(0, 14), match='(143) 243-5326'>"
            ]
          },
          "metadata": {},
          "execution_count": 48
        }
      ]
    },
    {
      "cell_type": "code",
      "source": [
        "re.search(regex, \"435.3467\", re.X)"
      ],
      "metadata": {
        "colab": {
          "base_uri": "https://localhost:8080/"
        },
        "id": "H29Bv3g_o1Nf",
        "outputId": "8a25ad79-a949-4d4a-c780-d3126e9f7ae1"
      },
      "execution_count": 49,
      "outputs": [
        {
          "output_type": "execute_result",
          "data": {
            "text/plain": [
              "<re.Match object; span=(0, 8), match='435.3467'>"
            ]
          },
          "metadata": {},
          "execution_count": 49
        }
      ]
    },
    {
      "cell_type": "markdown",
      "source": [
        "re.Debug: shows debugging info"
      ],
      "metadata": {
        "id": "wTmgX7zPpRFy"
      }
    },
    {
      "cell_type": "code",
      "source": [
        "re.search('foo.bar', 'fooxbar', re.DEBUG)"
      ],
      "metadata": {
        "colab": {
          "base_uri": "https://localhost:8080/"
        },
        "id": "LPFzuzzwpBaQ",
        "outputId": "44027182-6776-41cb-8483-aa5a645846a1"
      },
      "execution_count": 50,
      "outputs": [
        {
          "output_type": "stream",
          "name": "stdout",
          "text": [
            "LITERAL 102\n",
            "LITERAL 111\n",
            "LITERAL 111\n",
            "ANY None\n",
            "LITERAL 98\n",
            "LITERAL 97\n",
            "LITERAL 114\n",
            "\n",
            " 0. INFO 12 0b1 7 7 (to 13)\n",
            "      prefix_skip 3\n",
            "      prefix [0x66, 0x6f, 0x6f] ('foo')\n",
            "      overlap [0, 0, 0]\n",
            "13: LITERAL 0x66 ('f')\n",
            "15. LITERAL 0x6f ('o')\n",
            "17. LITERAL 0x6f ('o')\n",
            "19. ANY\n",
            "20. LITERAL 0x62 ('b')\n",
            "22. LITERAL 0x61 ('a')\n",
            "24. LITERAL 0x72 ('r')\n",
            "26. SUCCESS\n"
          ]
        },
        {
          "output_type": "execute_result",
          "data": {
            "text/plain": [
              "<re.Match object; span=(0, 7), match='fooxbar'>"
            ]
          },
          "metadata": {},
          "execution_count": 50
        }
      ]
    },
    {
      "cell_type": "markdown",
      "source": [
        "## Searching Functions"
      ],
      "metadata": {
        "id": "3pcVPLLnwHcc"
      }
    },
    {
      "cell_type": "markdown",
      "source": [
        "re.match(regex, string, flags = 0): looks for a regex match at the beginning of a string.\n",
        "\n",
        "\n"
      ],
      "metadata": {
        "id": "M6yUw6eiwWFn"
      }
    },
    {
      "cell_type": "code",
      "source": [
        "re.match(r\"123\", \"123foobar\")"
      ],
      "metadata": {
        "colab": {
          "base_uri": "https://localhost:8080/"
        },
        "id": "yC-J3OmnwhSD",
        "outputId": "83964e34-5af6-429d-af12-ba0efe62d407"
      },
      "execution_count": 52,
      "outputs": [
        {
          "output_type": "execute_result",
          "data": {
            "text/plain": [
              "<re.Match object; span=(0, 3), match='123'>"
            ]
          },
          "metadata": {},
          "execution_count": 52
        }
      ]
    },
    {
      "cell_type": "code",
      "source": [
        "re.match(r\"123\", \"foo123bar\")"
      ],
      "metadata": {
        "id": "E07xlO-Xq3WG"
      },
      "execution_count": 51,
      "outputs": []
    },
    {
      "cell_type": "markdown",
      "source": [
        "re.fullmatch(regex, string, flags = 0): returns only when full string matches"
      ],
      "metadata": {
        "id": "QQaLiF4xw28N"
      }
    },
    {
      "cell_type": "code",
      "source": [
        "re.fullmatch(r\"123\", \"123\")"
      ],
      "metadata": {
        "colab": {
          "base_uri": "https://localhost:8080/"
        },
        "id": "K_M24dzzwfiy",
        "outputId": "66d3db40-4cb2-466b-b7b2-85bdbaabf356"
      },
      "execution_count": 53,
      "outputs": [
        {
          "output_type": "execute_result",
          "data": {
            "text/plain": [
              "<re.Match object; span=(0, 3), match='123'>"
            ]
          },
          "metadata": {},
          "execution_count": 53
        }
      ]
    },
    {
      "cell_type": "code",
      "source": [
        "re.fullmatch(r\"123\", \"foo123\")"
      ],
      "metadata": {
        "id": "nBliwpKDw9XD"
      },
      "execution_count": 54,
      "outputs": []
    },
    {
      "cell_type": "markdown",
      "source": [
        "re.findall(regex, string, flags = 0): returns a list of all matches of a reges in a string"
      ],
      "metadata": {
        "id": "T2aq1xNWxIY-"
      }
    },
    {
      "cell_type": "code",
      "source": [
        "re.findall(\"\\w+\", \"...foo#*)123~~bar#$|\")"
      ],
      "metadata": {
        "colab": {
          "base_uri": "https://localhost:8080/"
        },
        "id": "pGtZlzrtw-wh",
        "outputId": "c53aaff2-af40-4fa1-cc1b-36fccaabd04c"
      },
      "execution_count": 57,
      "outputs": [
        {
          "output_type": "execute_result",
          "data": {
            "text/plain": [
              "['foo', '123', 'bar']"
            ]
          },
          "metadata": {},
          "execution_count": 57
        }
      ]
    },
    {
      "cell_type": "code",
      "source": [
        "re.findall(\"(\\w+), (\\w+)\", \"one, two, three, four, five\")"
      ],
      "metadata": {
        "colab": {
          "base_uri": "https://localhost:8080/"
        },
        "id": "ETHH58mfxUj3",
        "outputId": "22cc220c-4468-4dc6-9a23-4ed0707785ce"
      },
      "execution_count": 58,
      "outputs": [
        {
          "output_type": "execute_result",
          "data": {
            "text/plain": [
              "[('one', 'two'), ('three', 'four')]"
            ]
          },
          "metadata": {},
          "execution_count": 58
        }
      ]
    },
    {
      "cell_type": "markdown",
      "source": [
        "re.finditer(regex, string, flags=0): returns an iterator that yields regex matches"
      ],
      "metadata": {
        "id": "a22ugdoOyBjg"
      }
    },
    {
      "cell_type": "code",
      "source": [
        "for i in re.finditer(\"\\w+\", \"...foo#*)123~~bar#$|\"):\n",
        "    print(i)"
      ],
      "metadata": {
        "colab": {
          "base_uri": "https://localhost:8080/"
        },
        "id": "47YtYGHOxoMN",
        "outputId": "2686aebc-cd31-4c73-a1f4-5b967e5ed49f"
      },
      "execution_count": 61,
      "outputs": [
        {
          "output_type": "stream",
          "name": "stdout",
          "text": [
            "<re.Match object; span=(3, 6), match='foo'>\n",
            "<re.Match object; span=(9, 12), match='123'>\n",
            "<re.Match object; span=(14, 17), match='bar'>\n"
          ]
        }
      ]
    },
    {
      "cell_type": "markdown",
      "source": [
        "re.sub(regex, repl, string, count = 0, flags = 0): returns a new string that results from performing replacements on a search string"
      ],
      "metadata": {
        "id": "goKlByxtyiWb"
      }
    },
    {
      "cell_type": "code",
      "source": [
        "s = \"...foo&*)123~~bar$|\"\n",
        "re.sub(r\"\\w+\", \"WWW\", s)    "
      ],
      "metadata": {
        "colab": {
          "base_uri": "https://localhost:8080/",
          "height": 35
        },
        "id": "EEiEyxXYyK03",
        "outputId": "41bb8630-c433-4954-f963-9e2a4c169c69"
      },
      "execution_count": 64,
      "outputs": [
        {
          "output_type": "execute_result",
          "data": {
            "text/plain": [
              "'...WWW&*)WWW~~WWW$|'"
            ],
            "application/vnd.google.colaboratory.intrinsic+json": {
              "type": "string"
            }
          },
          "metadata": {},
          "execution_count": 64
        }
      ]
    },
    {
      "cell_type": "code",
      "source": [
        "def f(match):\n",
        "    s = match.group(0)\n",
        "    if s.isdigit():\n",
        "        return str(int(s) * 10)\n",
        "    else:\n",
        "        return s.upper()\n",
        "\n",
        "re.sub(r\"\\w+\", f, \"foo.10.bar.20.baz.30\")"
      ],
      "metadata": {
        "colab": {
          "base_uri": "https://localhost:8080/",
          "height": 35
        },
        "id": "QCeU1p3mzlQj",
        "outputId": "1405bdde-9920-45f7-d41a-0cda88ba81b9"
      },
      "execution_count": 65,
      "outputs": [
        {
          "output_type": "execute_result",
          "data": {
            "text/plain": [
              "'FOO.100.BAR.200.BAZ.300'"
            ],
            "application/vnd.google.colaboratory.intrinsic+json": {
              "type": "string"
            }
          },
          "metadata": {},
          "execution_count": 65
        }
      ]
    },
    {
      "cell_type": "code",
      "source": [
        "re.sub(r\"\\d+\", \"num\", \"foo#10#bar#20\", count = 1)"
      ],
      "metadata": {
        "colab": {
          "base_uri": "https://localhost:8080/",
          "height": 35
        },
        "id": "HWKGxokFzyGp",
        "outputId": "0527c5b9-e7f5-43f3-cc89-cd85e6edcbaf"
      },
      "execution_count": 72,
      "outputs": [
        {
          "output_type": "execute_result",
          "data": {
            "text/plain": [
              "'foo#num#bar#20'"
            ],
            "application/vnd.google.colaboratory.intrinsic+json": {
              "type": "string"
            }
          },
          "metadata": {},
          "execution_count": 72
        }
      ]
    },
    {
      "cell_type": "markdown",
      "source": [
        "re.split(regex, string, maxsplit = 0, flags = 0): splits a string into substrings"
      ],
      "metadata": {
        "id": "pLKUxpsG0QEm"
      }
    },
    {
      "cell_type": "code",
      "source": [
        "re.split(\"\\s*[,.;/]\\s*\", \"hell ;  lo, you / me\")"
      ],
      "metadata": {
        "colab": {
          "base_uri": "https://localhost:8080/"
        },
        "id": "rntJ4dVPz7Mp",
        "outputId": "ae25fbb6-d1a0-499a-be83-03f1884127eb"
      },
      "execution_count": 76,
      "outputs": [
        {
          "output_type": "execute_result",
          "data": {
            "text/plain": [
              "['hell', 'lo', 'you', 'me']"
            ]
          },
          "metadata": {},
          "execution_count": 76
        }
      ]
    },
    {
      "cell_type": "markdown",
      "source": [
        "re.compile(regex, flags = 0): compiles a regex into a regular expression object"
      ],
      "metadata": {
        "id": "J7Yb99Sf3K3W"
      }
    },
    {
      "cell_type": "code",
      "source": [
        "word = re.compile(r\"\\w+\")\n",
        "word.search(\"abc*bar\")"
      ],
      "metadata": {
        "colab": {
          "base_uri": "https://localhost:8080/"
        },
        "id": "lODpqtuV0euF",
        "outputId": "5415897e-e065-4a35-cb8e-5098813413c5"
      },
      "execution_count": 77,
      "outputs": [
        {
          "output_type": "execute_result",
          "data": {
            "text/plain": [
              "<re.Match object; span=(0, 3), match='abc'>"
            ]
          },
          "metadata": {},
          "execution_count": 77
        }
      ]
    },
    {
      "cell_type": "code",
      "source": [
        ""
      ],
      "metadata": {
        "id": "AD9yo9Ra3dF2"
      },
      "execution_count": null,
      "outputs": []
    }
  ]
}