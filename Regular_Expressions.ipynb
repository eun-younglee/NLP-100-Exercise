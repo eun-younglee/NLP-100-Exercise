{
  "nbformat": 4,
  "nbformat_minor": 0,
  "metadata": {
    "colab": {
      "name": "Regular Expressions.ipynb",
      "provenance": [],
      "collapsed_sections": [],
      "toc_visible": true,
      "authorship_tag": "ABX9TyO0lBaGcAQ+j2Ijy9vuq82j",
      "include_colab_link": true
    },
    "kernelspec": {
      "name": "python3",
      "display_name": "Python 3"
    },
    "language_info": {
      "name": "python"
    }
  },
  "cells": [
    {
      "cell_type": "markdown",
      "metadata": {
        "id": "view-in-github",
        "colab_type": "text"
      },
      "source": [
        "<a href=\"https://colab.research.google.com/github/eun-younglee/NLP-100-Exercise/blob/main/Regular_Expression.ipynb\" target=\"_parent\"><img src=\"https://colab.research.google.com/assets/colab-badge.svg\" alt=\"Open In Colab\"/></a>"
      ]
    },
    {
      "cell_type": "markdown",
      "source": [
        "#Regular Expressions\n",
        "Useful sites\n",
        "\n",
        "https://realpython.com/regex-python/\n",
        "\n",
        "https://regex101.com/"
      ],
      "metadata": {
        "id": "mCnzkvoVWDvG"
      }
    },
    {
      "cell_type": "markdown",
      "source": [
        "re.search(regex, string) # searches a string for a regex match"
      ],
      "metadata": {
        "id": "2mFpAgySre4T"
      }
    },
    {
      "cell_type": "code",
      "execution_count": 1,
      "metadata": {
        "colab": {
          "base_uri": "https://localhost:8080/"
        },
        "id": "j_3J5IoqUZmL",
        "outputId": "6afe16ef-9453-4cdf-affa-17fd00275ec2"
      },
      "outputs": [
        {
          "output_type": "execute_result",
          "data": {
            "text/plain": [
              "<re.Match object; span=(3, 6), match='123'>"
            ]
          },
          "metadata": {},
          "execution_count": 1
        }
      ],
      "source": [
        "import re\n",
        "string = \"foo123bar\"\n",
        "re.search('123', string)"
      ]
    },
    {
      "cell_type": "code",
      "source": [
        "if re.search('123', string):\n",
        "    print(\"Found a match\")\n",
        "else:\n",
        "    print(\"No match\")"
      ],
      "metadata": {
        "colab": {
          "base_uri": "https://localhost:8080/"
        },
        "id": "aoCvPLibWezK",
        "outputId": "14692367-376d-4e66-cdfc-ea2518741b37"
      },
      "execution_count": 2,
      "outputs": [
        {
          "output_type": "stream",
          "name": "stdout",
          "text": [
            "Found a match\n"
          ]
        }
      ]
    },
    {
      "cell_type": "markdown",
      "source": [
        "##Metacharacters matching single character\n",
        "[]: character class"
      ],
      "metadata": {
        "id": "g1d3fbyeb0cI"
      }
    },
    {
      "cell_type": "code",
      "source": [
        "string = \"foo123bar\"\n",
        "re.search('[0-9][0-9][0-9]', string)"
      ],
      "metadata": {
        "colab": {
          "base_uri": "https://localhost:8080/"
        },
        "id": "xwVqyJpeWwry",
        "outputId": "0d2e0cd4-bc74-4cf4-a65f-dfc973e3d5c0"
      },
      "execution_count": 3,
      "outputs": [
        {
          "output_type": "execute_result",
          "data": {
            "text/plain": [
              "<re.Match object; span=(3, 6), match='123'>"
            ]
          },
          "metadata": {},
          "execution_count": 3
        }
      ]
    },
    {
      "cell_type": "markdown",
      "source": [
        ".: metacharacter matches any character except a newline"
      ],
      "metadata": {
        "id": "YqY5wF7vcw2k"
      }
    },
    {
      "cell_type": "code",
      "source": [
        "string = \"foo123bar\"\n",
        "re.search('1.3', string)"
      ],
      "metadata": {
        "colab": {
          "base_uri": "https://localhost:8080/"
        },
        "id": "acC32ez0cn_w",
        "outputId": "7d5b7e31-60f9-429b-f57f-ee68b7ed6b1b"
      },
      "execution_count": 4,
      "outputs": [
        {
          "output_type": "execute_result",
          "data": {
            "text/plain": [
              "<re.Match object; span=(3, 6), match='123'>"
            ]
          },
          "metadata": {},
          "execution_count": 4
        }
      ]
    },
    {
      "cell_type": "code",
      "source": [
        "string = \"foo123bar\"\n",
        "re.search('.b', string)"
      ],
      "metadata": {
        "colab": {
          "base_uri": "https://localhost:8080/"
        },
        "id": "0IpZRA7rc7Fv",
        "outputId": "30056227-a630-4048-cfce-b908cfddebe4"
      },
      "execution_count": 5,
      "outputs": [
        {
          "output_type": "execute_result",
          "data": {
            "text/plain": [
              "<re.Match object; span=(5, 7), match='3b'>"
            ]
          },
          "metadata": {},
          "execution_count": 5
        }
      ]
    },
    {
      "cell_type": "markdown",
      "source": [
        "^: Anchors a match at the start of a string\n",
        "\n",
        "$: Anchors a match at the end of a string"
      ],
      "metadata": {
        "id": "zmLiVbvwdklx"
      }
    },
    {
      "cell_type": "code",
      "source": [
        "string = \"foo123bar\"\n",
        "re.search(\"^f\", string)"
      ],
      "metadata": {
        "colab": {
          "base_uri": "https://localhost:8080/"
        },
        "id": "kYfBe-m_dDNs",
        "outputId": "3bc888b6-416a-4265-c914-b1eec4b31137"
      },
      "execution_count": 6,
      "outputs": [
        {
          "output_type": "execute_result",
          "data": {
            "text/plain": [
              "<re.Match object; span=(0, 1), match='f'>"
            ]
          },
          "metadata": {},
          "execution_count": 6
        }
      ]
    },
    {
      "cell_type": "code",
      "source": [
        "string = \"foo123bar\"\n",
        "re.search(\"^b\", string)"
      ],
      "metadata": {
        "id": "RhqCqiXjdr7p"
      },
      "execution_count": 7,
      "outputs": []
    },
    {
      "cell_type": "markdown",
      "source": [
        "*: Matches zero or more repetitions"
      ],
      "metadata": {
        "id": "qwBdtbsdd1zC"
      }
    },
    {
      "cell_type": "code",
      "source": [
        "string = \"foo123bar\"\n",
        "re.search(\"12*\", string)"
      ],
      "metadata": {
        "colab": {
          "base_uri": "https://localhost:8080/"
        },
        "id": "IZwsMsXbduRq",
        "outputId": "b591a3c1-eef2-43ae-c110-d93baa029793"
      },
      "execution_count": 8,
      "outputs": [
        {
          "output_type": "execute_result",
          "data": {
            "text/plain": [
              "<re.Match object; span=(3, 5), match='12'>"
            ]
          },
          "metadata": {},
          "execution_count": 8
        }
      ]
    },
    {
      "cell_type": "markdown",
      "source": [
        "[]: match any single character contained in the square brackets"
      ],
      "metadata": {
        "id": "ynpW_WrajF4R"
      }
    },
    {
      "cell_type": "code",
      "source": [
        "string = \"fooo123bar\"\n",
        "re.search(\"[ard]\", string)"
      ],
      "metadata": {
        "colab": {
          "base_uri": "https://localhost:8080/"
        },
        "id": "AmctPQCme8Wg",
        "outputId": "b8e1ff7e-177b-4954-925f-af72533d9a13"
      },
      "execution_count": 9,
      "outputs": [
        {
          "output_type": "execute_result",
          "data": {
            "text/plain": [
              "<re.Match object; span=(8, 9), match='a'>"
            ]
          },
          "metadata": {},
          "execution_count": 9
        }
      ]
    },
    {
      "cell_type": "code",
      "source": [
        "string = \"foo123bar\"\n",
        "re.search(\"[a-z]\", string) # any single character within the range"
      ],
      "metadata": {
        "colab": {
          "base_uri": "https://localhost:8080/"
        },
        "id": "nSHr7MFPjXtM",
        "outputId": "9054409f-9c24-4397-d647-9e50b43c42cb"
      },
      "execution_count": 10,
      "outputs": [
        {
          "output_type": "execute_result",
          "data": {
            "text/plain": [
              "<re.Match object; span=(0, 1), match='f'>"
            ]
          },
          "metadata": {},
          "execution_count": 10
        }
      ]
    },
    {
      "cell_type": "code",
      "source": [
        "string = \"foo123bar\"\n",
        "re.search('[0-9a-zA-Z]', string)"
      ],
      "metadata": {
        "colab": {
          "base_uri": "https://localhost:8080/"
        },
        "id": "F99-J-_Tj25d",
        "outputId": "c0aceafb-cf49-44fb-f706-8a9216940829"
      },
      "execution_count": 11,
      "outputs": [
        {
          "output_type": "execute_result",
          "data": {
            "text/plain": [
              "<re.Match object; span=(0, 1), match='f'>"
            ]
          },
          "metadata": {},
          "execution_count": 11
        }
      ]
    },
    {
      "cell_type": "code",
      "source": [
        "re.search('[^0-9]', '12345foo') # matches any character that does not start with characters from the set"
      ],
      "metadata": {
        "colab": {
          "base_uri": "https://localhost:8080/"
        },
        "id": "Dn0GBu7cj_A5",
        "outputId": "002df033-f4d2-4ec0-f1ff-13b70b29f131"
      },
      "execution_count": 12,
      "outputs": [
        {
          "output_type": "execute_result",
          "data": {
            "text/plain": [
              "<re.Match object; span=(5, 6), match='f'>"
            ]
          },
          "metadata": {},
          "execution_count": 12
        }
      ]
    },
    {
      "cell_type": "markdown",
      "source": [
        "\\w: same as [a-zA-Z0-9]"
      ],
      "metadata": {
        "id": "MmCFjKPLp4a4"
      }
    },
    {
      "cell_type": "code",
      "source": [
        "re.search('\\w', \"!?@hellothere\")"
      ],
      "metadata": {
        "colab": {
          "base_uri": "https://localhost:8080/"
        },
        "id": "_KO4fxadkeHO",
        "outputId": "b48ea5ef-9ab6-4e14-d57b-457408f2571f"
      },
      "execution_count": 13,
      "outputs": [
        {
          "output_type": "execute_result",
          "data": {
            "text/plain": [
              "<re.Match object; span=(3, 4), match='h'>"
            ]
          },
          "metadata": {},
          "execution_count": 13
        }
      ]
    },
    {
      "cell_type": "markdown",
      "source": [
        "\\W: matches any non-word character"
      ],
      "metadata": {
        "id": "Z8cQSAeCqMHa"
      }
    },
    {
      "cell_type": "code",
      "source": [
        "re.search('\\W', \"hello#$?\")"
      ],
      "metadata": {
        "colab": {
          "base_uri": "https://localhost:8080/"
        },
        "id": "itxmFXWiqBkA",
        "outputId": "22f8eaac-9251-4254-ea85-938c19c2e66b"
      },
      "execution_count": 14,
      "outputs": [
        {
          "output_type": "execute_result",
          "data": {
            "text/plain": [
              "<re.Match object; span=(5, 6), match='#'>"
            ]
          },
          "metadata": {},
          "execution_count": 14
        }
      ]
    },
    {
      "cell_type": "markdown",
      "source": [
        "\\d: matches any decimal digit character, same as [0-9]\n",
        "\n",
        "\\D: matches any non decimal digit character, same as [^0-9]"
      ],
      "metadata": {
        "id": "8LBivkNyqYya"
      }
    },
    {
      "cell_type": "code",
      "source": [
        "re.search(\"\\d\", \"hello123\")"
      ],
      "metadata": {
        "colab": {
          "base_uri": "https://localhost:8080/"
        },
        "id": "VUD9Ev2xqVua",
        "outputId": "816618b9-cc74-411d-9b1a-27338c736f5b"
      },
      "execution_count": 15,
      "outputs": [
        {
          "output_type": "execute_result",
          "data": {
            "text/plain": [
              "<re.Match object; span=(5, 6), match='1'>"
            ]
          },
          "metadata": {},
          "execution_count": 15
        }
      ]
    },
    {
      "cell_type": "code",
      "source": [
        "re.search(\"\\d\", \"hello123\")"
      ],
      "metadata": {
        "colab": {
          "base_uri": "https://localhost:8080/"
        },
        "id": "Smx1Vke2qiFk",
        "outputId": "4a1fc360-9ad9-4b49-fe0c-4f9083b424ca"
      },
      "execution_count": 16,
      "outputs": [
        {
          "output_type": "execute_result",
          "data": {
            "text/plain": [
              "<re.Match object; span=(5, 6), match='1'>"
            ]
          },
          "metadata": {},
          "execution_count": 16
        }
      ]
    },
    {
      "cell_type": "markdown",
      "source": [
        "\\s: matches any whitespace character, including newline\n",
        "\n",
        "\\S: matches any non whitespace character"
      ],
      "metadata": {
        "id": "_ss6-lBvrEv9"
      }
    },
    {
      "cell_type": "code",
      "source": [
        "re.search(\"\\s\", \"hello\\nthere\")"
      ],
      "metadata": {
        "colab": {
          "base_uri": "https://localhost:8080/"
        },
        "id": "oVNGKZHUqpwm",
        "outputId": "ead3d317-4530-40a6-cc04-ecdccf399a60"
      },
      "execution_count": 17,
      "outputs": [
        {
          "output_type": "execute_result",
          "data": {
            "text/plain": [
              "<re.Match object; span=(5, 6), match='\\n'>"
            ]
          },
          "metadata": {},
          "execution_count": 17
        }
      ]
    },
    {
      "cell_type": "markdown",
      "source": [
        "\\\\: escaping characters "
      ],
      "metadata": {
        "id": "1Kaox13VDNqI"
      }
    },
    {
      "cell_type": "code",
      "source": [
        "re.search(\".\", \"hello.me\") # matches any character"
      ],
      "metadata": {
        "id": "EBuTa6qXrQT7",
        "colab": {
          "base_uri": "https://localhost:8080/"
        },
        "outputId": "d5a1231a-18a0-405e-d612-5cd75d67c821"
      },
      "execution_count": 18,
      "outputs": [
        {
          "output_type": "execute_result",
          "data": {
            "text/plain": [
              "<re.Match object; span=(0, 1), match='h'>"
            ]
          },
          "metadata": {},
          "execution_count": 18
        }
      ]
    },
    {
      "cell_type": "code",
      "source": [
        "re.search(\"\\.\", \"hello.me\") # matches \".\""
      ],
      "metadata": {
        "colab": {
          "base_uri": "https://localhost:8080/"
        },
        "id": "QZsfsvEDD1V2",
        "outputId": "3c59ac56-86bb-450a-cbc5-258a63267f60"
      },
      "execution_count": 19,
      "outputs": [
        {
          "output_type": "execute_result",
          "data": {
            "text/plain": [
              "<re.Match object; span=(5, 6), match='.'>"
            ]
          },
          "metadata": {},
          "execution_count": 19
        }
      ]
    },
    {
      "cell_type": "markdown",
      "source": [
        "r\"string\": specify the regex using a raw string, suppresses the escaping at the interpreter level"
      ],
      "metadata": {
        "id": "yZzWBL8uEWpx"
      }
    },
    {
      "cell_type": "code",
      "source": [
        "re.search(r\"\\\\\", r\"foo\\bar\")"
      ],
      "metadata": {
        "colab": {
          "base_uri": "https://localhost:8080/"
        },
        "id": "glVnj1_nD6IX",
        "outputId": "0d203592-b4d6-4e1f-dad4-540aae1f6fd2"
      },
      "execution_count": 20,
      "outputs": [
        {
          "output_type": "execute_result",
          "data": {
            "text/plain": [
              "<re.Match object; span=(3, 4), match='\\\\'>"
            ]
          },
          "metadata": {},
          "execution_count": 20
        }
      ]
    },
    {
      "cell_type": "markdown",
      "source": [
        "## Anchors\n",
        "Anchors are zero-width matches. They don’t match any actual characters in the search string, and they don’t consume any of the search string during parsing. Instead, an anchor dictates a particular location in the search string where a match must occur."
      ],
      "metadata": {
        "id": "uyYzCyW5GnX2"
      }
    },
    {
      "cell_type": "markdown",
      "source": [
        "^: the parser’s current position must be at the beginning of the search string for it to find a match"
      ],
      "metadata": {
        "id": "q8sdp6TxFxQ6"
      }
    },
    {
      "cell_type": "code",
      "source": [
        "re.search(\"^foo\", \"foo123bar\")"
      ],
      "metadata": {
        "colab": {
          "base_uri": "https://localhost:8080/"
        },
        "id": "o7WaiOj1Fyw1",
        "outputId": "0c898127-58a1-4a2d-fbce-0863067b8fc9"
      },
      "execution_count": 21,
      "outputs": [
        {
          "output_type": "execute_result",
          "data": {
            "text/plain": [
              "<re.Match object; span=(0, 3), match='foo'>"
            ]
          },
          "metadata": {},
          "execution_count": 21
        }
      ]
    },
    {
      "cell_type": "code",
      "source": [
        "re.search(\"^foo\", \"123foobar\")"
      ],
      "metadata": {
        "id": "Ov_-FXsvGOce"
      },
      "execution_count": 22,
      "outputs": []
    },
    {
      "cell_type": "markdown",
      "source": [
        "$: the parser’s current position must be at the end of the search string for it to find a match"
      ],
      "metadata": {
        "id": "q4S-MZ4MHBHr"
      }
    },
    {
      "cell_type": "code",
      "source": [
        "re.search(\"foo$\", \"foo123bar\")"
      ],
      "metadata": {
        "id": "KpW_7OoxGRK4"
      },
      "execution_count": 23,
      "outputs": []
    },
    {
      "cell_type": "code",
      "source": [
        "re.search(\"foo$\", \"123barfoo\")"
      ],
      "metadata": {
        "colab": {
          "base_uri": "https://localhost:8080/"
        },
        "id": "MCLEnO9wHQOE",
        "outputId": "2fcb3f85-04b1-4f02-b3b2-438b742aaf0d"
      },
      "execution_count": 24,
      "outputs": [
        {
          "output_type": "execute_result",
          "data": {
            "text/plain": [
              "<re.Match object; span=(6, 9), match='foo'>"
            ]
          },
          "metadata": {},
          "execution_count": 24
        }
      ]
    },
    {
      "cell_type": "markdown",
      "source": [
        "## Quantifiers\n",
        "A quantifier metacharacter immediately follows a portion of a regex and indicates how many times that portion must occur for the match to succeed."
      ],
      "metadata": {
        "id": "c270qsyrH9rH"
      }
    },
    {
      "cell_type": "markdown",
      "source": [
        "+: matches one or more repetitions of the preceding regex"
      ],
      "metadata": {
        "id": "bjqvD8cHIr_Y"
      }
    },
    {
      "cell_type": "code",
      "source": [
        "print(re.search(\"-+\", \"foobar\"))"
      ],
      "metadata": {
        "colab": {
          "base_uri": "https://localhost:8080/"
        },
        "id": "7fyOhO8gI00O",
        "outputId": "2c6bd26a-36e5-44c1-cf52-fa2bb2cf02fa"
      },
      "execution_count": 25,
      "outputs": [
        {
          "output_type": "stream",
          "name": "stdout",
          "text": [
            "None\n"
          ]
        }
      ]
    },
    {
      "cell_type": "code",
      "source": [
        "re.search(\"-+\", \"foo--bar\")"
      ],
      "metadata": {
        "colab": {
          "base_uri": "https://localhost:8080/"
        },
        "id": "7R11ljuBI4xh",
        "outputId": "cb26a674-3913-4a14-cac0-a32800cb511b"
      },
      "execution_count": 26,
      "outputs": [
        {
          "output_type": "execute_result",
          "data": {
            "text/plain": [
              "<re.Match object; span=(3, 5), match='--'>"
            ]
          },
          "metadata": {},
          "execution_count": 26
        }
      ]
    },
    {
      "cell_type": "markdown",
      "source": [
        "?: matches zero or one repetitions of the preceding regex"
      ],
      "metadata": {
        "id": "BQPrTUEJJKCj"
      }
    },
    {
      "cell_type": "code",
      "source": [
        "re.search(\"foo-?bar\", \"foobar\")"
      ],
      "metadata": {
        "colab": {
          "base_uri": "https://localhost:8080/"
        },
        "id": "g4zwK2i8JF98",
        "outputId": "fa2ad2f9-afbb-4784-ef5d-82902d86be38"
      },
      "execution_count": 27,
      "outputs": [
        {
          "output_type": "execute_result",
          "data": {
            "text/plain": [
              "<re.Match object; span=(0, 6), match='foobar'>"
            ]
          },
          "metadata": {},
          "execution_count": 27
        }
      ]
    },
    {
      "cell_type": "code",
      "source": [
        "re.search(\"foo-?bar\", \"foo--bar\")"
      ],
      "metadata": {
        "id": "gereZPqGJPi_"
      },
      "execution_count": 28,
      "outputs": []
    },
    {
      "cell_type": "markdown",
      "source": [
        "{m}: matches exactly m repetitions of the preceding regex"
      ],
      "metadata": {
        "id": "60pG5WrMs2N_"
      }
    },
    {
      "cell_type": "code",
      "source": [
        "re.search(\"ab{3}\", \"aaabbbc\")"
      ],
      "metadata": {
        "colab": {
          "base_uri": "https://localhost:8080/"
        },
        "id": "h7OV6fJvs1NR",
        "outputId": "75ae3d72-641d-4349-f5b0-d5477cd7e60c"
      },
      "execution_count": 59,
      "outputs": [
        {
          "output_type": "execute_result",
          "data": {
            "text/plain": [
              "<re.Match object; span=(2, 6), match='abbb'>"
            ]
          },
          "metadata": {},
          "execution_count": 59
        }
      ]
    },
    {
      "cell_type": "markdown",
      "source": [
        "{m,n}: matches any number of repetitions of the preceding regex from m to n, inclusive, no space after the comma"
      ],
      "metadata": {
        "id": "Ay0RmL95tGtt"
      }
    },
    {
      "cell_type": "code",
      "source": [
        "re.search(\"b{3,5}\", \"aabbbbcc\")"
      ],
      "metadata": {
        "colab": {
          "base_uri": "https://localhost:8080/"
        },
        "id": "gWqgL1RytLHi",
        "outputId": "93989059-7022-47a8-c732-e657edb2b0b5"
      },
      "execution_count": 64,
      "outputs": [
        {
          "output_type": "execute_result",
          "data": {
            "text/plain": [
              "<re.Match object; span=(2, 6), match='bbbb'>"
            ]
          },
          "metadata": {},
          "execution_count": 64
        }
      ]
    },
    {
      "cell_type": "code",
      "source": [
        "re.search(\"aab{3,5}\", \"aaabbcccc\")"
      ],
      "metadata": {
        "id": "6uuD_swVtRp3"
      },
      "execution_count": 65,
      "outputs": []
    },
    {
      "cell_type": "markdown",
      "source": [
        "{,}: any number of repetitions"
      ],
      "metadata": {
        "id": "tBmB7Y6KtsVV"
      }
    },
    {
      "cell_type": "code",
      "source": [
        "re.search(\"aab{,}c\", \"aabbbbbbbbcv\")"
      ],
      "metadata": {
        "colab": {
          "base_uri": "https://localhost:8080/"
        },
        "id": "OWYm5Q0Xtur5",
        "outputId": "9a6f8e6b-5158-47fd-d2ef-f6edd0f66087"
      },
      "execution_count": 66,
      "outputs": [
        {
          "output_type": "execute_result",
          "data": {
            "text/plain": [
              "<re.Match object; span=(0, 11), match='aabbbbbbbbc'>"
            ]
          },
          "metadata": {},
          "execution_count": 66
        }
      ]
    },
    {
      "cell_type": "markdown",
      "source": [
        "## Capturing Groups\n",
        "m.groups(): returns a tuple containing all the captured groups from a regex match."
      ],
      "metadata": {
        "id": "VPf09sdnZo_i"
      }
    },
    {
      "cell_type": "code",
      "source": [
        "m = re.search(\"(\\w+), (\\w+), (\\w+)\", 'foo, you, bar')\n",
        "m"
      ],
      "metadata": {
        "colab": {
          "base_uri": "https://localhost:8080/"
        },
        "id": "ndXD8UupZ0Td",
        "outputId": "3aecd1a7-2882-4903-aa77-8d37304edde0"
      },
      "execution_count": 29,
      "outputs": [
        {
          "output_type": "execute_result",
          "data": {
            "text/plain": [
              "<re.Match object; span=(0, 13), match='foo, you, bar'>"
            ]
          },
          "metadata": {},
          "execution_count": 29
        }
      ]
    },
    {
      "cell_type": "code",
      "source": [
        "m.groups()"
      ],
      "metadata": {
        "colab": {
          "base_uri": "https://localhost:8080/"
        },
        "id": "lRcIxOcsaBwl",
        "outputId": "6acd6091-7876-44bc-e32a-92f49cbd83bf"
      },
      "execution_count": 30,
      "outputs": [
        {
          "output_type": "execute_result",
          "data": {
            "text/plain": [
              "('foo', 'you', 'bar')"
            ]
          },
          "metadata": {},
          "execution_count": 30
        }
      ]
    },
    {
      "cell_type": "code",
      "source": [
        "m.group(2)"
      ],
      "metadata": {
        "colab": {
          "base_uri": "https://localhost:8080/",
          "height": 35
        },
        "id": "kjtd02klaDI6",
        "outputId": "69749cd7-3073-4aaf-f356-ba554d2d36ba"
      },
      "execution_count": 31,
      "outputs": [
        {
          "output_type": "execute_result",
          "data": {
            "text/plain": [
              "'you'"
            ],
            "application/vnd.google.colaboratory.intrinsic+json": {
              "type": "string"
            }
          },
          "metadata": {},
          "execution_count": 31
        }
      ]
    },
    {
      "cell_type": "code",
      "source": [
        "m.group(0) # returns all elements"
      ],
      "metadata": {
        "colab": {
          "base_uri": "https://localhost:8080/",
          "height": 35
        },
        "id": "iQCfSkF6alsR",
        "outputId": "add043e1-b228-4fa8-8299-cad3d3e4669b"
      },
      "execution_count": 32,
      "outputs": [
        {
          "output_type": "execute_result",
          "data": {
            "text/plain": [
              "'foo, you, bar'"
            ],
            "application/vnd.google.colaboratory.intrinsic+json": {
              "type": "string"
            }
          },
          "metadata": {},
          "execution_count": 32
        }
      ]
    },
    {
      "cell_type": "markdown",
      "source": [
        "(?:regex): creates a non-capturing group"
      ],
      "metadata": {
        "id": "inPY-2LaguX1"
      }
    },
    {
      "cell_type": "code",
      "source": [
        "m = re.search(\"(\\w+), (?:\\w+), (\\w+)\", \"foo, quux, baz\") # does not capture second word\n",
        "m.groups()"
      ],
      "metadata": {
        "colab": {
          "base_uri": "https://localhost:8080/"
        },
        "id": "9dIwWlRyg1lU",
        "outputId": "d5d54c89-7071-4f43-ad13-2ef247034c97"
      },
      "execution_count": 33,
      "outputs": [
        {
          "output_type": "execute_result",
          "data": {
            "text/plain": [
              "('foo', 'baz')"
            ]
          },
          "metadata": {},
          "execution_count": 33
        }
      ]
    },
    {
      "cell_type": "markdown",
      "source": [
        "## Backreference\n",
        "\\n: matches the contents of a previously captured group"
      ],
      "metadata": {
        "id": "8UIxxKsmbUYK"
      }
    },
    {
      "cell_type": "code",
      "source": [
        "regex = r\"(\\w+), \\1\"\n",
        "m = re.search(regex, \"foo, foo\")\n",
        "m"
      ],
      "metadata": {
        "colab": {
          "base_uri": "https://localhost:8080/"
        },
        "id": "03gcu3aqap6u",
        "outputId": "df12c328-e589-4e05-ccf5-70d6caf6816f"
      },
      "execution_count": 34,
      "outputs": [
        {
          "output_type": "execute_result",
          "data": {
            "text/plain": [
              "<re.Match object; span=(0, 8), match='foo, foo'>"
            ]
          },
          "metadata": {},
          "execution_count": 34
        }
      ]
    },
    {
      "cell_type": "code",
      "source": [
        "m = re.search(regex, \"foo, you\")\n",
        "print(m)"
      ],
      "metadata": {
        "colab": {
          "base_uri": "https://localhost:8080/"
        },
        "id": "6eY68kymbkZO",
        "outputId": "c0b670c9-083c-4b61-8131-c0ea4d73b0eb"
      },
      "execution_count": 35,
      "outputs": [
        {
          "output_type": "stream",
          "name": "stdout",
          "text": [
            "None\n"
          ]
        }
      ]
    },
    {
      "cell_type": "markdown",
      "source": [
        "## Miscellaneous Metacharacters\n",
        "Miscellaneous: of various types or from different sources."
      ],
      "metadata": {
        "id": "wAq8dKxQi4Rw"
      }
    },
    {
      "cell_type": "markdown",
      "source": [
        "(?#...): specifies a comment"
      ],
      "metadata": {
        "id": "xVEpbq4zjwcT"
      }
    },
    {
      "cell_type": "code",
      "source": [
        " re.search(\"bar(?#this is a comment)\", \"foobar\")"
      ],
      "metadata": {
        "colab": {
          "base_uri": "https://localhost:8080/"
        },
        "id": "bTsA2klJcZC3",
        "outputId": "d8f60dcd-6052-496a-e5ad-21b72d9edd6c"
      },
      "execution_count": 36,
      "outputs": [
        {
          "output_type": "execute_result",
          "data": {
            "text/plain": [
              "<re.Match object; span=(3, 6), match='bar'>"
            ]
          },
          "metadata": {},
          "execution_count": 36
        }
      ]
    },
    {
      "cell_type": "markdown",
      "source": [
        "|: specifies a set of alternatives on which to match, non greedy(only first match)"
      ],
      "metadata": {
        "id": "zP356-3XkArY"
      }
    },
    {
      "cell_type": "code",
      "source": [
        "re.search(\"bar|baz|baq\", \"foobaz\")"
      ],
      "metadata": {
        "colab": {
          "base_uri": "https://localhost:8080/"
        },
        "id": "fAbY302Dj72S",
        "outputId": "727e18cc-fb5b-4646-c767-1e995bb16e59"
      },
      "execution_count": 37,
      "outputs": [
        {
          "output_type": "execute_result",
          "data": {
            "text/plain": [
              "<re.Match object; span=(3, 6), match='baz'>"
            ]
          },
          "metadata": {},
          "execution_count": 37
        }
      ]
    },
    {
      "cell_type": "code",
      "source": [
        "re.search('(foo|bar|baz)+', 'foofoofoo')"
      ],
      "metadata": {
        "colab": {
          "base_uri": "https://localhost:8080/"
        },
        "id": "AeGmPMP7kHpr",
        "outputId": "72b768ca-9db1-49c7-c0c2-b93722d47385"
      },
      "execution_count": 38,
      "outputs": [
        {
          "output_type": "execute_result",
          "data": {
            "text/plain": [
              "<re.Match object; span=(0, 9), match='foofoofoo'>"
            ]
          },
          "metadata": {},
          "execution_count": 38
        }
      ]
    },
    {
      "cell_type": "markdown",
      "source": [
        "##Modified Regular Expression Matching With Flags\n",
        "re.search(regex, string, flags): scans a string for a regex match, applying the specified modifier flags"
      ],
      "metadata": {
        "id": "fnHR9SD4lwEa"
      }
    },
    {
      "cell_type": "markdown",
      "source": [
        "re.I: IGNORECASE, case insensitive  \n",
        "\n"
      ],
      "metadata": {
        "id": "kqQN-c5zmT0R"
      }
    },
    {
      "cell_type": "code",
      "source": [
        "re.search('a+', 'aaaAAA', re.I) "
      ],
      "metadata": {
        "colab": {
          "base_uri": "https://localhost:8080/"
        },
        "id": "iHDQfqbHkd-K",
        "outputId": "fe8727e4-208e-4e12-e5cf-78aa8bae0cff"
      },
      "execution_count": 39,
      "outputs": [
        {
          "output_type": "execute_result",
          "data": {
            "text/plain": [
              "<re.Match object; span=(0, 6), match='aaaAAA'>"
            ]
          },
          "metadata": {},
          "execution_count": 39
        }
      ]
    },
    {
      "cell_type": "markdown",
      "source": [
        "re.M: MULTILINE, causes start-of-string and end-of-string anchors to match at embedded newlines"
      ],
      "metadata": {
        "id": "jVS8rOVVmaak"
      }
    },
    {
      "cell_type": "code",
      "source": [
        "string = \"foo\\nbar\\nbaz\"\n",
        "re.search(\"^bar\", string)"
      ],
      "metadata": {
        "id": "hVkvLhcMlQfS"
      },
      "execution_count": 40,
      "outputs": []
    },
    {
      "cell_type": "code",
      "source": [
        "re.search(\"^bar\", string, re.M) "
      ],
      "metadata": {
        "colab": {
          "base_uri": "https://localhost:8080/"
        },
        "id": "-_MTu4zHl0IO",
        "outputId": "38ea6dc7-e0a1-41a8-e75d-0f2aa2fe338a"
      },
      "execution_count": 41,
      "outputs": [
        {
          "output_type": "execute_result",
          "data": {
            "text/plain": [
              "<re.Match object; span=(4, 7), match='bar'>"
            ]
          },
          "metadata": {},
          "execution_count": 41
        }
      ]
    },
    {
      "cell_type": "code",
      "source": [
        "re.search(\"baz$\", string, re.M)"
      ],
      "metadata": {
        "colab": {
          "base_uri": "https://localhost:8080/"
        },
        "id": "LjMV3M-kmEFe",
        "outputId": "125c1115-b703-49a6-c774-af8d5d0aaeb7"
      },
      "execution_count": 42,
      "outputs": [
        {
          "output_type": "execute_result",
          "data": {
            "text/plain": [
              "<re.Match object; span=(8, 11), match='baz'>"
            ]
          },
          "metadata": {},
          "execution_count": 42
        }
      ]
    },
    {
      "cell_type": "markdown",
      "source": [
        "re.X: VERBOSE, llows inclusion of whitespace and comments within a regex"
      ],
      "metadata": {
        "id": "3S8VrDaUod_o"
      }
    },
    {
      "cell_type": "code",
      "source": [
        "regex = r'''^               # Start of string\n",
        "             (\\(\\d{3}\\))?    # Optional area code\n",
        "             \\s*             # Optional whitespace\n",
        "             \\d{3}           # Three-digit prefix\n",
        "             [-.]            # Separator character\n",
        "             \\d{4}           # Four-digit line number\n",
        "            $               # Anchor at end of string\n",
        "            '''\n",
        "re.search(regex, \"(143) 243-5326\", re.X)"
      ],
      "metadata": {
        "colab": {
          "base_uri": "https://localhost:8080/"
        },
        "id": "0gKG3x7YmkBH",
        "outputId": "56af8650-2835-476f-cd13-9dd028fb815a"
      },
      "execution_count": 45,
      "outputs": [
        {
          "output_type": "execute_result",
          "data": {
            "text/plain": [
              "<re.Match object; span=(0, 14), match='(143) 243-5326'>"
            ]
          },
          "metadata": {},
          "execution_count": 45
        }
      ]
    },
    {
      "cell_type": "code",
      "source": [
        "re.search(regex, \"435.3467\", re.X)"
      ],
      "metadata": {
        "colab": {
          "base_uri": "https://localhost:8080/"
        },
        "id": "H29Bv3g_o1Nf",
        "outputId": "582f8992-c6b6-4f44-ca0e-dcc027428058"
      },
      "execution_count": 46,
      "outputs": [
        {
          "output_type": "execute_result",
          "data": {
            "text/plain": [
              "<re.Match object; span=(0, 8), match='435.3467'>"
            ]
          },
          "metadata": {},
          "execution_count": 46
        }
      ]
    },
    {
      "cell_type": "markdown",
      "source": [
        "re.Debug: shows debugging info"
      ],
      "metadata": {
        "id": "wTmgX7zPpRFy"
      }
    },
    {
      "cell_type": "code",
      "source": [
        "re.search('foo.bar', 'fooxbar', re.DEBUG)"
      ],
      "metadata": {
        "colab": {
          "base_uri": "https://localhost:8080/"
        },
        "id": "LPFzuzzwpBaQ",
        "outputId": "98c7a1c7-ad3a-4596-f530-ff845f45a627"
      },
      "execution_count": 47,
      "outputs": [
        {
          "output_type": "stream",
          "name": "stdout",
          "text": [
            "LITERAL 102\n",
            "LITERAL 111\n",
            "LITERAL 111\n",
            "ANY None\n",
            "LITERAL 98\n",
            "LITERAL 97\n",
            "LITERAL 114\n",
            "\n",
            " 0. INFO 12 0b1 7 7 (to 13)\n",
            "      prefix_skip 3\n",
            "      prefix [0x66, 0x6f, 0x6f] ('foo')\n",
            "      overlap [0, 0, 0]\n",
            "13: LITERAL 0x66 ('f')\n",
            "15. LITERAL 0x6f ('o')\n",
            "17. LITERAL 0x6f ('o')\n",
            "19. ANY\n",
            "20. LITERAL 0x62 ('b')\n",
            "22. LITERAL 0x61 ('a')\n",
            "24. LITERAL 0x72 ('r')\n",
            "26. SUCCESS\n"
          ]
        },
        {
          "output_type": "execute_result",
          "data": {
            "text/plain": [
              "<re.Match object; span=(0, 7), match='fooxbar'>"
            ]
          },
          "metadata": {},
          "execution_count": 47
        }
      ]
    },
    {
      "cell_type": "code",
      "source": [
        ""
      ],
      "metadata": {
        "id": "E07xlO-Xq3WG"
      },
      "execution_count": null,
      "outputs": []
    }
  ]
}
