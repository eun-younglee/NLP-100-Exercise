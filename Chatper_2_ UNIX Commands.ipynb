{
  "nbformat": 4,
  "nbformat_minor": 0,
  "metadata": {
    "colab": {
      "name": "Chatper 2 - UNIX Commands.ipynb",
      "provenance": [],
      "authorship_tag": "ABX9TyMz7FmyeMAtc/DSqysLgreJ"
    },
    "kernelspec": {
      "name": "python3",
      "display_name": "Python 3"
    },
    "language_info": {
      "name": "python"
    }
  },
  "cells": [
    {
      "cell_type": "markdown",
      "source": [
        "# NLP 100\n",
        "## Chapter 2: UNIX Commands\n",
        "Done with Python"
      ],
      "metadata": {
        "id": "qYpy3CYs7ysM"
      }
    },
    {
      "cell_type": "code",
      "source": [
        "!curl -sO https://nlp100.github.io/data/popular-names.txt\n",
        "!ls popular-names.txt"
      ],
      "metadata": {
        "colab": {
          "base_uri": "https://localhost:8080/"
        },
        "id": "R6fA4esq70-P",
        "outputId": "edd6eb5b-fcd2-442e-b1e4-af709e475898"
      },
      "execution_count": 2,
      "outputs": [
        {
          "output_type": "stream",
          "name": "stdout",
          "text": [
            "popular-names.txt\n"
          ]
        }
      ]
    },
    {
      "cell_type": "markdown",
      "source": [
        "### 10. Line count\n",
        "Count the number of lines of the file. "
      ],
      "metadata": {
        "id": "VaFQo5tk74zi"
      }
    },
    {
      "cell_type": "code",
      "source": [
        "with open('popular-names.txt', 'r') as f:\n",
        "   print(len(f.readlines()))"
      ],
      "metadata": {
        "colab": {
          "base_uri": "https://localhost:8080/"
        },
        "id": "P6BxQ1SC7_4m",
        "outputId": "ecdf7dfc-0ad6-4506-c9da-999e8dbd5838"
      },
      "execution_count": 9,
      "outputs": [
        {
          "output_type": "stream",
          "name": "stdout",
          "text": [
            "2780\n"
          ]
        }
      ]
    },
    {
      "cell_type": "markdown",
      "source": [
        "### 11. Replace tabs into spaces\n",
        "Replace every occurrence of a tab character into a space. "
      ],
      "metadata": {
        "id": "t0YFMsuM_62j"
      }
    },
    {
      "cell_type": "code",
      "source": [
        "with open(\"popular-names.txt\", \"rt\") as f: # rt is read text mode\n",
        "\t  s = f.read()\n",
        "with open(\"popular-names.txt\", \"wt\") as f: # wt is write text mode\n",
        "    s = s.replace(\"\\t\",\" \")\n",
        "    f.write(s)"
      ],
      "metadata": {
        "id": "hagflIqz_oJl"
      },
      "execution_count": 4,
      "outputs": []
    },
    {
      "cell_type": "code",
      "source": [
        "with open(\"popular-names.txt\", \"r\") as f: # check replaced\n",
        "    for i in range(5):\n",
        "        line = next(f).strip()\n",
        "        print(line)"
      ],
      "metadata": {
        "colab": {
          "base_uri": "https://localhost:8080/"
        },
        "id": "eqv3-7O3C8jc",
        "outputId": "3c85ee2f-0330-42ac-9956-517c53572224"
      },
      "execution_count": 7,
      "outputs": [
        {
          "output_type": "stream",
          "name": "stdout",
          "text": [
            "Mary F 7065 1880\n",
            "Anna F 2604 1880\n",
            "Emma F 2003 1880\n",
            "Elizabeth F 1939 1880\n",
            "Minnie F 1746 1880\n"
          ]
        }
      ]
    },
    {
      "cell_type": "markdown",
      "source": [
        "### 12. col1.txt from the first column, col2.txt from the second colum\n",
        "Extract the value of the first column of each line, and store the output into col1.txt. Extract the value of the second column of each line, and store the output into col2.txt. "
      ],
      "metadata": {
        "id": "o3oOfEvR2lLf"
      }
    },
    {
      "cell_type": "code",
      "source": [
        "col1, col2 = [], []\n",
        "with open(\"popular-names.txt\", \"r\") as f: \n",
        "    for x in f:\n",
        "        col1.append(x.split()[0]) # only first columns\n",
        "        col2.append(x.split()[1]) # only second columns\n",
        "        \n",
        "with open(\"col1.txt\", \"w\") as f: # write into col1.txt\n",
        "    for r in col1:\n",
        "        f.write(r + \"\\n\")\n",
        "with open(\"col2.txt\", \"w\") as f: # write into col2.txt\n",
        "    for r in col2:\n",
        "        f.write(r + \"\\n\")"
      ],
      "metadata": {
        "id": "l1B20-Sk2nyk"
      },
      "execution_count": 32,
      "outputs": []
    },
    {
      "cell_type": "code",
      "source": [
        "with open(\"col1.txt\", \"r\") as f: # check col1.txt\n",
        "    for i in range(5):\n",
        "        line = next(f).strip()\n",
        "        print(line)"
      ],
      "metadata": {
        "colab": {
          "base_uri": "https://localhost:8080/"
        },
        "id": "o1p6w9Wx3f6A",
        "outputId": "a04da9ba-8e67-4efd-a9be-2cf1ba655ec2"
      },
      "execution_count": 33,
      "outputs": [
        {
          "output_type": "stream",
          "name": "stdout",
          "text": [
            "Mary\n",
            "Anna\n",
            "Emma\n",
            "Elizabeth\n",
            "Minnie\n"
          ]
        }
      ]
    },
    {
      "cell_type": "code",
      "source": [
        "with open(\"col2.txt\", \"r\") as f: # check col2.txt\n",
        "    for i in range(5):\n",
        "        line = next(f).strip()\n",
        "        print(line)"
      ],
      "metadata": {
        "colab": {
          "base_uri": "https://localhost:8080/"
        },
        "id": "Fb1htkeL4-K-",
        "outputId": "3a606f5c-7006-49a4-d797-229229d56ebf"
      },
      "execution_count": 19,
      "outputs": [
        {
          "output_type": "stream",
          "name": "stdout",
          "text": [
            "F\n",
            "F\n",
            "F\n",
            "F\n",
            "F\n"
          ]
        }
      ]
    },
    {
      "cell_type": "markdown",
      "source": [
        "### 13. Merging col1.txt and col2.txt\n",
        "Join the contents of col1.txt and col2.txt, and create a text file whose each line contains the values of the first and second columns (separated by tab character) of the original file."
      ],
      "metadata": {
        "id": "cRhNULQR5biX"
      }
    },
    {
      "cell_type": "code",
      "source": [
        "col1, col2 = [], []\n",
        "with open(\"col1.txt\", \"r\") as f: # read col1.txt\n",
        "    for x in f:\n",
        "        x = x.strip(\"\\n\") # have to get rid of \\n\n",
        "        col1.append(x)\n",
        "with open(\"col2.txt\", \"r\") as f: # read col2.txt\n",
        "    for x in f:\n",
        "        x = x.strip(\"\\n\") # have to get rid of \\n\n",
        "        col2.append(x)\n",
        "\n",
        "with open(\"col12.txt\", \"w\") as f:\n",
        "    for x, y in zip(col1, col2):\n",
        "        line = x + \"\\t\" + y + \"\\n\"\n",
        "        f.write(line)"
      ],
      "metadata": {
        "id": "JaBas_bu5Zeo"
      },
      "execution_count": 38,
      "outputs": []
    },
    {
      "cell_type": "code",
      "source": [
        "with open(\"col12.txt\", \"r\") as f: # check col12.txt\n",
        "    for i in range(5):\n",
        "        line = next(f).strip()\n",
        "        print(line)"
      ],
      "metadata": {
        "colab": {
          "base_uri": "https://localhost:8080/"
        },
        "id": "iE-NkQ3w6w4D",
        "outputId": "445cb693-2021-4d9d-9b75-eb6454a02adb"
      },
      "execution_count": 40,
      "outputs": [
        {
          "output_type": "stream",
          "name": "stdout",
          "text": [
            "Mary\tF\n",
            "Anna\tF\n",
            "Emma\tF\n",
            "Elizabeth\tF\n",
            "Minnie\tF\n"
          ]
        }
      ]
    },
    {
      "cell_type": "markdown",
      "source": [
        "### 14. First N lines\n",
        "Receive a natural number $N$ and output the first $N$ lines of the file."
      ],
      "metadata": {
        "id": "x5Q-qpR_8_Fu"
      }
    },
    {
      "cell_type": "code",
      "source": [
        "n = int(input())\n",
        "with open(\"popular-names.txt\", \"r\") as f: \n",
        "    for i in range(n):\n",
        "        line = next(f).strip() # next() function returns the next item from the iterator, strip '\\n'\n",
        "        print(line)"
      ],
      "metadata": {
        "colab": {
          "base_uri": "https://localhost:8080/"
        },
        "id": "p9bb5klQ8-f8",
        "outputId": "9b395968-243b-4f5e-91f3-975d51c76bd7"
      },
      "execution_count": 42,
      "outputs": [
        {
          "output_type": "stream",
          "name": "stdout",
          "text": [
            "3\n",
            "Mary F 7065 1880\n",
            "Anna F 2604 1880\n",
            "Emma F 2003 1880\n"
          ]
        }
      ]
    },
    {
      "cell_type": "markdown",
      "source": [
        "### 15. Last N lines\n",
        "Receive a natural number $N$ and output the last $N$ lines of the file."
      ],
      "metadata": {
        "id": "af7Z5Fiv-LqY"
      }
    },
    {
      "cell_type": "code",
      "source": [
        "n = int(input())\n",
        "with open('popular-names.txt', 'r') as f: # read file, to list \n",
        "    x = f.readlines()\n",
        "\n",
        "for i in range(len(x) - n - 1, len(x)): # print last N lines \n",
        "    print(x[i], end = \"\")"
      ],
      "metadata": {
        "colab": {
          "base_uri": "https://localhost:8080/"
        },
        "id": "JOtEM4Pv-DMI",
        "outputId": "bb8d541a-4366-4eab-9186-f113f6445649"
      },
      "execution_count": 57,
      "outputs": [
        {
          "output_type": "stream",
          "name": "stdout",
          "text": [
            "5\n",
            "Oliver M 13389 2018\n",
            "Benjamin M 13381 2018\n",
            "Elijah M 12886 2018\n",
            "Lucas M 12585 2018\n",
            "Mason M 12435 2018\n",
            "Logan M 12352 2018\n"
          ]
        }
      ]
    },
    {
      "cell_type": "markdown",
      "source": [
        "### 16. Split a file into N pieces\n",
        "Receive a natural number $N$ and split the input file into $N$ pieces at line boundaries. "
      ],
      "metadata": {
        "id": "bCvAhmZnAYiQ"
      }
    },
    {
      "cell_type": "code",
      "source": [
        "n = int(input())\n",
        "\n",
        "with open(\"popular-names.txt\", \"r\") as f: # read file\n",
        "    s = f.readlines()\n",
        "splits = [(len(s) // n) * i for i in range(1, n)]\n",
        "\n",
        "with open(\"popular-names-split.txt\", \"w\") as f:\n",
        "    for i in range(len(s)):\n",
        "        if i in splits: \n",
        "            f.write(\"split\\n\") # split \n",
        "        f.write(s[i])\n",
        "\n",
        "with open('popular-names-split.txt', 'r') as f: # read file, to list \n",
        "    x = f.readlines()\n",
        "\n",
        "for i in range(splits[0] - 2, splits[0] + 2): # print to see splits \n",
        "    print(x[i], end = \"\")"
      ],
      "metadata": {
        "colab": {
          "base_uri": "https://localhost:8080/"
        },
        "id": "kmz5JAgD-Zew",
        "outputId": "f09794c5-7e13-4d8d-fca3-9dc0c76f7f3b"
      },
      "execution_count": 26,
      "outputs": [
        {
          "output_type": "stream",
          "name": "stdout",
          "text": [
            "5\n",
            "Robert\tM\t4020\t1907\n",
            "Charles\tM\t3884\t1907\n",
            "split\n",
            "Joseph\tM\t3844\t1907\n"
          ]
        }
      ]
    },
    {
      "cell_type": "markdown",
      "source": [
        "### 17. Distinct strings in the first column\n",
        "Find distinct strings (a set of strings) of the first column of the file. "
      ],
      "metadata": {
        "id": "soQw4Aj3RRiD"
      }
    },
    {
      "cell_type": "code",
      "source": [
        "names = []\n",
        "with open(\"popular-names.txt\", \"r\") as f: \n",
        "    for x in f:\n",
        "        names.append(x.split()[0]) # only first columns\n",
        "print(len(set(names)), \"different names\")"
      ],
      "metadata": {
        "colab": {
          "base_uri": "https://localhost:8080/"
        },
        "id": "Fk9GIAw3RTw0",
        "outputId": "cbfc541b-f97e-4fc1-fb25-da8d95819cc3"
      },
      "execution_count": 37,
      "outputs": [
        {
          "output_type": "stream",
          "name": "stdout",
          "text": [
            "136 different names\n"
          ]
        }
      ]
    },
    {
      "cell_type": "markdown",
      "source": [
        "### 18. Sort lines in descending order of the third column\n",
        "Sort the lines in descending numeric order of the third column (sort lines without changing the content of each line). \n"
      ],
      "metadata": {
        "id": "yRq4Iu97S6sP"
      }
    },
    {
      "cell_type": "code",
      "source": [
        "import pandas as pd\n",
        "s = []\n",
        "with open(\"popular-names.txt\", \"r\") as f:\n",
        "    for x in f:\n",
        "        s.append([x.split()[0], x.split()[1], x.split()[2], x.split()[3]]) # make into list \n",
        "\n",
        "pn = pd.DataFrame(s, columns = ['Name', 'Gender', 'Number', 'Year']) # make into a DataFrame\n",
        "pn = pn.sort_values('Number') # sort by third column descending \n",
        "pn.head(5)"
      ],
      "metadata": {
        "colab": {
          "base_uri": "https://localhost:8080/",
          "height": 206
        },
        "id": "8UDSR_qhSWtq",
        "outputId": "216bd797-5a01-476c-e9f7-c7f7e842bded"
      },
      "execution_count": 48,
      "outputs": [
        {
          "output_type": "execute_result",
          "data": {
            "text/plain": [
              "           Name Gender Number  Year\n",
              "2689  Charlotte      F  10115  2014\n",
              "2709     Harper      F  10295  2015\n",
              "2688    Madison      F  10320  2014\n",
              "2769     Evelyn      F  10376  2018\n",
              "601       Helen      F  10479  1910"
            ],
            "text/html": [
              "\n",
              "  <div id=\"df-58b9fa85-4357-48f3-909f-6bc8def75c25\">\n",
              "    <div class=\"colab-df-container\">\n",
              "      <div>\n",
              "<style scoped>\n",
              "    .dataframe tbody tr th:only-of-type {\n",
              "        vertical-align: middle;\n",
              "    }\n",
              "\n",
              "    .dataframe tbody tr th {\n",
              "        vertical-align: top;\n",
              "    }\n",
              "\n",
              "    .dataframe thead th {\n",
              "        text-align: right;\n",
              "    }\n",
              "</style>\n",
              "<table border=\"1\" class=\"dataframe\">\n",
              "  <thead>\n",
              "    <tr style=\"text-align: right;\">\n",
              "      <th></th>\n",
              "      <th>Name</th>\n",
              "      <th>Gender</th>\n",
              "      <th>Number</th>\n",
              "      <th>Year</th>\n",
              "    </tr>\n",
              "  </thead>\n",
              "  <tbody>\n",
              "    <tr>\n",
              "      <th>2689</th>\n",
              "      <td>Charlotte</td>\n",
              "      <td>F</td>\n",
              "      <td>10115</td>\n",
              "      <td>2014</td>\n",
              "    </tr>\n",
              "    <tr>\n",
              "      <th>2709</th>\n",
              "      <td>Harper</td>\n",
              "      <td>F</td>\n",
              "      <td>10295</td>\n",
              "      <td>2015</td>\n",
              "    </tr>\n",
              "    <tr>\n",
              "      <th>2688</th>\n",
              "      <td>Madison</td>\n",
              "      <td>F</td>\n",
              "      <td>10320</td>\n",
              "      <td>2014</td>\n",
              "    </tr>\n",
              "    <tr>\n",
              "      <th>2769</th>\n",
              "      <td>Evelyn</td>\n",
              "      <td>F</td>\n",
              "      <td>10376</td>\n",
              "      <td>2018</td>\n",
              "    </tr>\n",
              "    <tr>\n",
              "      <th>601</th>\n",
              "      <td>Helen</td>\n",
              "      <td>F</td>\n",
              "      <td>10479</td>\n",
              "      <td>1910</td>\n",
              "    </tr>\n",
              "  </tbody>\n",
              "</table>\n",
              "</div>\n",
              "      <button class=\"colab-df-convert\" onclick=\"convertToInteractive('df-58b9fa85-4357-48f3-909f-6bc8def75c25')\"\n",
              "              title=\"Convert this dataframe to an interactive table.\"\n",
              "              style=\"display:none;\">\n",
              "        \n",
              "  <svg xmlns=\"http://www.w3.org/2000/svg\" height=\"24px\"viewBox=\"0 0 24 24\"\n",
              "       width=\"24px\">\n",
              "    <path d=\"M0 0h24v24H0V0z\" fill=\"none\"/>\n",
              "    <path d=\"M18.56 5.44l.94 2.06.94-2.06 2.06-.94-2.06-.94-.94-2.06-.94 2.06-2.06.94zm-11 1L8.5 8.5l.94-2.06 2.06-.94-2.06-.94L8.5 2.5l-.94 2.06-2.06.94zm10 10l.94 2.06.94-2.06 2.06-.94-2.06-.94-.94-2.06-.94 2.06-2.06.94z\"/><path d=\"M17.41 7.96l-1.37-1.37c-.4-.4-.92-.59-1.43-.59-.52 0-1.04.2-1.43.59L10.3 9.45l-7.72 7.72c-.78.78-.78 2.05 0 2.83L4 21.41c.39.39.9.59 1.41.59.51 0 1.02-.2 1.41-.59l7.78-7.78 2.81-2.81c.8-.78.8-2.07 0-2.86zM5.41 20L4 18.59l7.72-7.72 1.47 1.35L5.41 20z\"/>\n",
              "  </svg>\n",
              "      </button>\n",
              "      \n",
              "  <style>\n",
              "    .colab-df-container {\n",
              "      display:flex;\n",
              "      flex-wrap:wrap;\n",
              "      gap: 12px;\n",
              "    }\n",
              "\n",
              "    .colab-df-convert {\n",
              "      background-color: #E8F0FE;\n",
              "      border: none;\n",
              "      border-radius: 50%;\n",
              "      cursor: pointer;\n",
              "      display: none;\n",
              "      fill: #1967D2;\n",
              "      height: 32px;\n",
              "      padding: 0 0 0 0;\n",
              "      width: 32px;\n",
              "    }\n",
              "\n",
              "    .colab-df-convert:hover {\n",
              "      background-color: #E2EBFA;\n",
              "      box-shadow: 0px 1px 2px rgba(60, 64, 67, 0.3), 0px 1px 3px 1px rgba(60, 64, 67, 0.15);\n",
              "      fill: #174EA6;\n",
              "    }\n",
              "\n",
              "    [theme=dark] .colab-df-convert {\n",
              "      background-color: #3B4455;\n",
              "      fill: #D2E3FC;\n",
              "    }\n",
              "\n",
              "    [theme=dark] .colab-df-convert:hover {\n",
              "      background-color: #434B5C;\n",
              "      box-shadow: 0px 1px 3px 1px rgba(0, 0, 0, 0.15);\n",
              "      filter: drop-shadow(0px 1px 2px rgba(0, 0, 0, 0.3));\n",
              "      fill: #FFFFFF;\n",
              "    }\n",
              "  </style>\n",
              "\n",
              "      <script>\n",
              "        const buttonEl =\n",
              "          document.querySelector('#df-58b9fa85-4357-48f3-909f-6bc8def75c25 button.colab-df-convert');\n",
              "        buttonEl.style.display =\n",
              "          google.colab.kernel.accessAllowed ? 'block' : 'none';\n",
              "\n",
              "        async function convertToInteractive(key) {\n",
              "          const element = document.querySelector('#df-58b9fa85-4357-48f3-909f-6bc8def75c25');\n",
              "          const dataTable =\n",
              "            await google.colab.kernel.invokeFunction('convertToInteractive',\n",
              "                                                     [key], {});\n",
              "          if (!dataTable) return;\n",
              "\n",
              "          const docLinkHtml = 'Like what you see? Visit the ' +\n",
              "            '<a target=\"_blank\" href=https://colab.research.google.com/notebooks/data_table.ipynb>data table notebook</a>'\n",
              "            + ' to learn more about interactive tables.';\n",
              "          element.innerHTML = '';\n",
              "          dataTable['output_type'] = 'display_data';\n",
              "          await google.colab.output.renderOutput(dataTable, element);\n",
              "          const docLink = document.createElement('div');\n",
              "          docLink.innerHTML = docLinkHtml;\n",
              "          element.appendChild(docLink);\n",
              "        }\n",
              "      </script>\n",
              "    </div>\n",
              "  </div>\n",
              "  "
            ]
          },
          "metadata": {},
          "execution_count": 48
        }
      ]
    },
    {
      "cell_type": "markdown",
      "source": [
        "### 19. Frequency of a string in the first column in descending order\n",
        "Find the frequency of a string in the first column, and sort the strings by descending order of their frequencies. "
      ],
      "metadata": {
        "id": "4M2ugGN4XZL3"
      }
    },
    {
      "cell_type": "code",
      "source": [
        "from collections import Counter\n",
        "names = []\n",
        "\n",
        "with open('popular-names.txt', 'r') as f:\n",
        "    for x in f:\n",
        "        names.append(x.split()[0]) # only get first column\n",
        "    c = Counter(names) # count occurences\n",
        "\n",
        "c.most_common(5) # get first five frequency "
      ],
      "metadata": {
        "colab": {
          "base_uri": "https://localhost:8080/"
        },
        "id": "pJBxHR_mUMgs",
        "outputId": "192a8ec6-7ec0-4c98-f63f-f826cbf7532f"
      },
      "execution_count": 50,
      "outputs": [
        {
          "output_type": "execute_result",
          "data": {
            "text/plain": [
              "[('James', 118),\n",
              " ('William', 111),\n",
              " ('John', 108),\n",
              " ('Robert', 108),\n",
              " ('Mary', 92)]"
            ]
          },
          "metadata": {},
          "execution_count": 50
        }
      ]
    }
  ]
}
